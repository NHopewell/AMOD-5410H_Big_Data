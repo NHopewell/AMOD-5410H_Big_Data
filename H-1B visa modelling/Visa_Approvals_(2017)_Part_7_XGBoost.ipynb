{
 "cells": [
  {
   "cell_type": "markdown",
   "metadata": {},
   "source": [
    "# Visa Approvals  (2017): Part 7 - XGBoost\n",
    "\n",
    "\n",
    "**AMOD-5410H: Big Data**   \n",
    "**Winter 2018**  \n",
    "**Nicholas Hopewell - 0496633**"
   ]
  },
  {
   "cell_type": "code",
   "execution_count": 2,
   "metadata": {
    "collapsed": true
   },
   "outputs": [],
   "source": [
    "import pandas as pd\n",
    "import numpy as np\n",
    "import seaborn as sns\n",
    "import matplotlib.pylab as pylab\n",
    "\n",
    "%matplotlib inline\n",
    "pd.options.display.float_format = '{:.2f}'.format\n",
    "# filte out package warnings\n",
    "import warnings\n",
    "warnings.filterwarnings('ignore')\n",
    "import warnings; warnings.simplefilter('ignore')"
   ]
  },
  {
   "cell_type": "code",
   "execution_count": 3,
   "metadata": {},
   "outputs": [
    {
     "name": "stderr",
     "output_type": "stream",
     "text": [
      "C:\\Users\\nicho\\Anaconda3\\lib\\site-packages\\sklearn\\cross_validation.py:41: DeprecationWarning: This module was deprecated in version 0.18 in favor of the model_selection module into which all the refactored classes and functions are moved. Also note that the interface of the new CV iterators are different from that of this module. This module will be removed in 0.20.\n",
      "  \"This module will be removed in 0.20.\", DeprecationWarning)\n"
     ]
    }
   ],
   "source": [
    "# for cross validation:\n",
    "from sklearn import cross_validation\n",
    "# for splitting the data into training and testing:\n",
    "from sklearn.model_selection import train_test_split\n",
    "# for reporting the confusion matrix:\n",
    "from sklearn.metrics import classification_report,confusion_matrix\n",
    "# for cv again:\n",
    "from sklearn.model_selection import cross_validate\n",
    "# report for imbalanced classification\n",
    "from imblearn.metrics import classification_report_imbalanced\n",
    "# evaluation metrics including precision, recall, f1, roc, accuracy, and a combined report which includes support\n",
    "from sklearn.metrics import precision_score, recall_score, f1_score, roc_auc_score, accuracy_score, classification_report\n",
    "# random forest classifyer\n",
    "from sklearn.ensemble import RandomForestClassifier\n",
    "from sklearn.tree import DecisionTreeClassifier"
   ]
  },
  {
   "cell_type": "code",
   "execution_count": 8,
   "metadata": {},
   "outputs": [],
   "source": [
    "import xgboost as xgb"
   ]
  },
  {
   "cell_type": "code",
   "execution_count": 4,
   "metadata": {},
   "outputs": [],
   "source": [
    "# read data\n",
    "cleaned_data = pd.read_csv(\"./Desktop/big data course proj/H-1B data/updated_2017_data.csv\")"
   ]
  },
  {
   "cell_type": "code",
   "execution_count": 9,
   "metadata": {
    "collapsed": true
   },
   "outputs": [],
   "source": [
    "X, y = cleaned_data.iloc[:, :-1], cleaned_data.iloc[:, -1]"
   ]
  },
  {
   "cell_type": "code",
   "execution_count": 10,
   "metadata": {
    "collapsed": true
   },
   "outputs": [],
   "source": [
    "X_train, X_test, y_train, y_test = train_test_split(X, y, test_size = 0.2, random_state = 123)"
   ]
  },
  {
   "cell_type": "code",
   "execution_count": 11,
   "metadata": {
    "collapsed": true
   },
   "outputs": [],
   "source": [
    "xg_cl = xgb.XGBClassifier(Objective='binary:logistic',\n",
    "                         n_estimators = 10, seed = 123)"
   ]
  },
  {
   "cell_type": "code",
   "execution_count": 12,
   "metadata": {},
   "outputs": [
    {
     "data": {
      "text/plain": [
       "XGBClassifier(Objective='binary:logistic', base_score=0.5, booster='gbtree',\n",
       "       colsample_bylevel=1, colsample_bytree=1, gamma=0, learning_rate=0.1,\n",
       "       max_delta_step=0, max_depth=3, min_child_weight=1, missing=None,\n",
       "       n_estimators=10, n_jobs=1, nthread=None,\n",
       "       objective='binary:logistic', random_state=0, reg_alpha=0,\n",
       "       reg_lambda=1, scale_pos_weight=1, seed=123, silent=True,\n",
       "       subsample=1)"
      ]
     },
     "execution_count": 12,
     "metadata": {},
     "output_type": "execute_result"
    }
   ],
   "source": [
    "xg_cl.fit(X_train, y_train)"
   ]
  },
  {
   "cell_type": "code",
   "execution_count": 16,
   "metadata": {},
   "outputs": [
    {
     "name": "stdout",
     "output_type": "stream",
     "text": [
      "accuracy: 1.000000\n"
     ]
    }
   ],
   "source": [
    "preds = xg_cl.predict(X_test)\n",
    "accuracy = float(np.sum(preds == y_test))/y_test.shape[0]\n",
    "print(\"accuracy: %f\" %(accuracy))"
   ]
  },
  {
   "cell_type": "code",
   "execution_count": null,
   "metadata": {
    "collapsed": true
   },
   "outputs": [],
   "source": []
  },
  {
   "cell_type": "markdown",
   "metadata": {},
   "source": [
    "### Balance classes"
   ]
  },
  {
   "cell_type": "code",
   "execution_count": 17,
   "metadata": {
    "collapsed": true
   },
   "outputs": [],
   "source": [
    "clone_features = cleaned_data.iloc[:, 1:]\n",
    "clone_target = cleaned_data.iloc[:, 0]"
   ]
  },
  {
   "cell_type": "code",
   "execution_count": 18,
   "metadata": {
    "collapsed": true
   },
   "outputs": [],
   "source": [
    "# for randomly undersampling the dominant class\n",
    "from imblearn.under_sampling import RandomUnderSampler\n",
    "from collections import Counter"
   ]
  },
  {
   "cell_type": "code",
   "execution_count": 19,
   "metadata": {},
   "outputs": [
    {
     "name": "stderr",
     "output_type": "stream",
     "text": [
      "C:\\Users\\nicho\\Anaconda3\\lib\\site-packages\\sklearn\\utils\\deprecation.py:77: DeprecationWarning: Function _ratio_float is deprecated; Use a float for 'ratio' is deprecated from version 0.2. The support will be removed in 0.4. Use a dict, str, or a callable instead.\n",
      "  warnings.warn(msg, category=DeprecationWarning)\n"
     ]
    },
    {
     "name": "stdout",
     "output_type": "stream",
     "text": [
      "[(0, 7353), (1, 7353)]\n"
     ]
    }
   ],
   "source": [
    "# randomly undersample the dominant class, producing a 1:1 ratio:\n",
    "\n",
    "us = RandomUnderSampler(ratio = 1, random_state = 1)\n",
    "X_resampled, y_resampled = us.fit_sample(clone_features, clone_target)\n",
    "\n",
    "# print count of the new distribution of class labels following undersampling:\n",
    "print(sorted(Counter(y_resampled).items()))"
   ]
  },
  {
   "cell_type": "code",
   "execution_count": 20,
   "metadata": {},
   "outputs": [
    {
     "data": {
      "image/png": "[encoded data removed]",
      "text/plain": [
       "<matplotlib.figure.Figure at 0x213079b8e48>"
      ]
     },
     "metadata": {},
     "output_type": "display_data"
    }
   ],
   "source": [
    "# should see class distribution now:\n",
    "sns.countplot(y_resampled, label='Count', palette=\"Set1\");"
   ]
  },
  {
   "cell_type": "code",
   "execution_count": 21,
   "metadata": {
    "collapsed": true
   },
   "outputs": [],
   "source": [
    ", X_test, y_train, y_test = train_test_split(X_resampled, y_resampled, test_size = 0.2, random_state = 123)"
   ]
  },
  {
   "cell_type": "code",
   "execution_count": 38,
   "metadata": {},
   "outputs": [
    {
     "data": {
      "text/plain": [
       "array([  1.50000000e+01,   0.00000000e+00,   0.00000000e+00,\n",
       "         0.00000000e+00,   0.00000000e+00,   0.00000000e+00,\n",
       "         1.50000000e+01,   8.41980000e+04,   1.08000000e+05,\n",
       "         0.00000000e+00,   1.00000000e+00,   0.00000000e+00,\n",
       "         0.00000000e+00,   1.00000000e+00,   0.00000000e+00,\n",
       "         0.00000000e+00,   0.00000000e+00,   1.00000000e+00,\n",
       "         1.00000000e+00,   0.00000000e+00,   1.00000000e+00,\n",
       "         0.00000000e+00])"
      ]
     },
     "execution_count": 38,
     "metadata": {},
     "output_type": "execute_result"
    }
   ],
   "source": [
    "X_train"
   ]
  },
  {
   "cell_type": "code",
   "execution_count": 22,
   "metadata": {},
   "outputs": [
    {
     "data": {
      "text/plain": [
       "XGBClassifier(Objective='binary:logistic', base_score=0.5, booster='gbtree',\n",
       "       colsample_bylevel=1, colsample_bytree=1, gamma=0, learning_rate=0.1,\n",
       "       max_delta_step=0, max_depth=3, min_child_weight=1, missing=None,\n",
       "       n_estimators=10, n_jobs=1, nthread=None,\n",
       "       objective='binary:logistic', random_state=0, reg_alpha=0,\n",
       "       reg_lambda=1, scale_pos_weight=1, seed=123, silent=True,\n",
       "       subsample=1)"
      ]
     },
     "execution_count": 22,
     "metadata": {},
     "output_type": "execute_result"
    }
   ],
   "source": [
    "xg_cl.fit(X_train, y_train)"
   ]
  },
  {
   "cell_type": "code",
   "execution_count": 23,
   "metadata": {},
   "outputs": [
    {
     "name": "stdout",
     "output_type": "stream",
     "text": [
      "accuracy: 0.642760\n"
     ]
    }
   ],
   "source": [
    "preds = xg_cl.predict(X_test)\n",
    "accuracy = float(np.sum(preds == y_test))/y_test.shape[0]\n",
    "print(\"accuracy: %f\" %(accuracy))"
   ]
  },
  {
   "cell_type": "markdown",
   "metadata": {},
   "source": [
    "Convert to dmatrix for cross val"
   ]
  },
  {
   "cell_type": "code",
   "execution_count": 40,
   "metadata": {},
   "outputs": [],
   "source": [
    "clean_dmatrix = xgb.DMatrix(data = X_resampled,\n",
    "                           label=y_resampled)"
   ]
  },
  {
   "cell_type": "code",
   "execution_count": 41,
   "metadata": {
    "collapsed": true
   },
   "outputs": [],
   "source": [
    "params = {\"objective\" : \"binary:logistic\", \"max:depth\" : 4}"
   ]
  },
  {
   "cell_type": "code",
   "execution_count": 42,
   "metadata": {},
   "outputs": [
    {
     "name": "stderr",
     "output_type": "stream",
     "text": [
      "Exception ignored in: <bound method DMatrix.__del__ of <xgboost.core.DMatrix object at 0x00000213094E8C50>>\n",
      "Traceback (most recent call last):\n",
      "  File \"C:\\Users\\nicho\\Anaconda3\\lib\\site-packages\\xgboost\\core.py\", line 368, in __del__\n",
      "    if self.handle is not None:\n",
      "AttributeError: 'DMatrix' object has no attribute 'handle'\n"
     ]
    }
   ],
   "source": [
    "cv_results = xgb.cv(dtrain=clean_dmatrix, params = params, nfold = 4,\n",
    "                   num_boost_round = 10, metrics = \"error\", as_pandas = True)"
   ]
  },
  {
   "cell_type": "code",
   "execution_count": 43,
   "metadata": {},
   "outputs": [
    {
     "name": "stdout",
     "output_type": "stream",
     "text": [
      "   test-error-mean  test-error-std  train-error-mean  train-error-std\n",
      "0             0.35            0.01              0.34             0.00\n",
      "1             0.33            0.02              0.32             0.00\n",
      "2             0.32            0.01              0.31             0.01\n",
      "3             0.32            0.01              0.30             0.00\n",
      "4             0.32            0.01              0.30             0.00\n",
      "5             0.32            0.01              0.29             0.00\n",
      "6             0.31            0.00              0.29             0.00\n",
      "7             0.31            0.01              0.28             0.01\n",
      "8             0.31            0.01              0.28             0.00\n",
      "9             0.30            0.01              0.27             0.00\n"
     ]
    }
   ],
   "source": [
    "# Print cv_results\n",
    "print(cv_results)\n"
   ]
  },
  {
   "cell_type": "code",
   "execution_count": 44,
   "metadata": {},
   "outputs": [
    {
     "name": "stdout",
     "output_type": "stream",
     "text": [
      "0.69651875\n"
     ]
    }
   ],
   "source": [
    "# Print the accuracy\n",
    "print(((1-cv_results[\"test-error-mean\"]).iloc[-1]))"
   ]
  },
  {
   "cell_type": "code",
   "execution_count": null,
   "metadata": {
    "collapsed": true
   },
   "outputs": [],
   "source": []
  },
  {
   "cell_type": "markdown",
   "metadata": {},
   "source": [
    "Early stopping"
   ]
  },
  {
   "cell_type": "code",
   "execution_count": 45,
   "metadata": {
    "collapsed": true
   },
   "outputs": [],
   "source": [
    "cv_results = xgb.cv(dtrain=clean_dmatrix, params=params, nfold=4, \n",
    "                    num_boost_round=50, early_stopping_rounds=10, metrics=\"error\", as_pandas=True, seed=123)"
   ]
  },
  {
   "cell_type": "code",
   "execution_count": 46,
   "metadata": {},
   "outputs": [
    {
     "name": "stdout",
     "output_type": "stream",
     "text": [
      "    test-error-mean  test-error-std  train-error-mean  train-error-std\n",
      "0              0.35            0.01              0.34             0.00\n",
      "1              0.33            0.02              0.32             0.01\n",
      "2              0.33            0.01              0.31             0.00\n",
      "3              0.32            0.01              0.30             0.00\n",
      "4              0.32            0.01              0.30             0.00\n",
      "5              0.32            0.01              0.29             0.00\n",
      "6              0.31            0.01              0.28             0.01\n",
      "7              0.31            0.01              0.28             0.00\n",
      "8              0.31            0.01              0.28             0.01\n",
      "9              0.30            0.01              0.27             0.00\n",
      "10             0.30            0.01              0.27             0.00\n",
      "11             0.30            0.01              0.27             0.00\n",
      "12             0.30            0.01              0.27             0.00\n",
      "13             0.30            0.01              0.26             0.01\n",
      "14             0.30            0.01              0.26             0.01\n",
      "15             0.29            0.01              0.26             0.00\n",
      "16             0.29            0.01              0.25             0.00\n",
      "17             0.29            0.01              0.25             0.00\n",
      "18             0.29            0.01              0.25             0.00\n",
      "19             0.29            0.01              0.25             0.00\n",
      "20             0.29            0.01              0.25             0.00\n",
      "21             0.29            0.01              0.25             0.00\n",
      "22             0.29            0.01              0.25             0.00\n",
      "23             0.29            0.01              0.24             0.00\n",
      "24             0.29            0.01              0.24             0.00\n",
      "25             0.29            0.01              0.24             0.00\n",
      "26             0.29            0.01              0.24             0.00\n",
      "27             0.29            0.01              0.24             0.00\n",
      "28             0.29            0.01              0.24             0.00\n",
      "29             0.29            0.01              0.24             0.00\n",
      "30             0.29            0.01              0.23             0.00\n",
      "31             0.29            0.01              0.23             0.00\n",
      "32             0.29            0.01              0.23             0.00\n",
      "33             0.29            0.01              0.23             0.00\n",
      "34             0.29            0.01              0.23             0.00\n",
      "35             0.29            0.01              0.23             0.00\n",
      "36             0.29            0.01              0.23             0.00\n",
      "37             0.29            0.01              0.23             0.00\n",
      "38             0.29            0.01              0.22             0.00\n",
      "39             0.29            0.01              0.22             0.00\n",
      "40             0.28            0.01              0.22             0.00\n",
      "41             0.28            0.01              0.22             0.00\n",
      "42             0.28            0.01              0.22             0.00\n",
      "43             0.28            0.01              0.22             0.00\n",
      "44             0.28            0.01              0.22             0.00\n",
      "45             0.28            0.01              0.21             0.00\n",
      "46             0.28            0.01              0.21             0.00\n",
      "47             0.28            0.01              0.21             0.00\n",
      "48             0.28            0.01              0.21             0.00\n",
      "49             0.28            0.01              0.21             0.00\n"
     ]
    }
   ],
   "source": [
    "# Print cv_results\n",
    "print(cv_results)"
   ]
  },
  {
   "cell_type": "code",
   "execution_count": 47,
   "metadata": {},
   "outputs": [
    {
     "name": "stdout",
     "output_type": "stream",
     "text": [
      "0.71732675\n"
     ]
    }
   ],
   "source": [
    "# Print the accuracy\n",
    "print(((1-cv_results[\"test-error-mean\"]).iloc[-1]))"
   ]
  },
  {
   "cell_type": "markdown",
   "metadata": {},
   "source": [
    "### Parameter tuning"
   ]
  },
  {
   "cell_type": "markdown",
   "metadata": {},
   "source": []
  },
  {
   "cell_type": "code",
   "execution_count": null,
   "metadata": {
    "collapsed": true
   },
   "outputs": [],
   "source": []
  },
  {
   "cell_type": "code",
   "execution_count": null,
   "metadata": {
    "collapsed": true
   },
   "outputs": [],
   "source": []
  },
  {
   "cell_type": "code",
   "execution_count": null,
   "metadata": {
    "collapsed": true
   },
   "outputs": [],
   "source": []
  },
  {
   "cell_type": "code",
   "execution_count": null,
   "metadata": {
    "collapsed": true
   },
   "outputs": [],
   "source": []
  }
 ],
 "metadata": {
  "kernelspec": {
   "display_name": "Python 3",
   "language": "python",
   "name": "python3"
  },
  "language_info": {
   "codemirror_mode": {
    "name": "ipython",
    "version": 3
   },
   "file_extension": ".py",
   "mimetype": "text/x-python",
   "name": "python",
   "nbconvert_exporter": "python",
   "pygments_lexer": "ipython3",
   "version": "3.6.3"
  }
 },
 "nbformat": 4,
 "nbformat_minor": 2
}
