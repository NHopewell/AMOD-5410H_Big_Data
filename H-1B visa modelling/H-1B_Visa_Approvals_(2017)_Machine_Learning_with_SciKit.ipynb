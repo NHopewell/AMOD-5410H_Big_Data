{
 "cells": [
  {
   "cell_type": "markdown",
   "metadata": {},
   "source": [
    "# Visa Approvals  (2017): Part 6 - SciKit ML on expanded data\n",
    "\n",
    "## Model fitting and parameter tuning\n",
    "  \n",
    "  \n",
    "**AMOD-5410H: Big Data**   \n",
    "**Winter 2018**  \n",
    "**Nicholas Hopewell - 0496633**"
   ]
  },
  {
   "cell_type": "code",
   "execution_count": 67,
   "metadata": {
    "collapsed": true
   },
   "outputs": [],
   "source": [
    "import pandas as pd\n",
    "import numpy as np\n",
    "import seaborn as sns\n",
    "import matplotlib.pylab as pylab\n",
    "\n",
    "%matplotlib inline\n",
    "pd.options.display.float_format = '{:.2f}'.format\n",
    "# filte out package warnings\n",
    "import warnings\n",
    "warnings.filterwarnings('ignore')\n",
    "import warnings; warnings.simplefilter('ignore')"
   ]
  },
  {
   "cell_type": "code",
   "execution_count": 68,
   "metadata": {},
   "outputs": [],
   "source": [
    "# for cross validation:\n",
    "from sklearn import cross_validation\n",
    "# for splitting the data into training and testing:\n",
    "from sklearn.model_selection import train_test_split\n",
    "# for reporting the confusion matrix:\n",
    "from sklearn.metrics import classification_report,confusion_matrix\n",
    "# for cv again:\n",
    "from sklearn.model_selection import cross_validate\n",
    "# report for imbalanced classification\n",
    "from imblearn.metrics import classification_report_imbalanced\n",
    "# evaluation metrics including precision, recall, f1, roc, accuracy, and a combined report which includes support\n",
    "from sklearn.metrics import precision_score, recall_score, f1_score, roc_auc_score, accuracy_score, classification_report\n",
    "# random forest classifyer\n",
    "from sklearn.ensemble import RandomForestClassifier\n",
    "from sklearn.tree import DecisionTreeClassifier"
   ]
  },
  {
   "cell_type": "code",
   "execution_count": 3,
   "metadata": {
    "collapsed": true
   },
   "outputs": [],
   "source": [
    "# read data\n",
    "cleaned_data = pd.read_csv(\"./Desktop/big data course proj/H-1B data/updated_2017_data.csv\")"
   ]
  },
  {
   "cell_type": "code",
   "execution_count": 4,
   "metadata": {},
   "outputs": [],
   "source": [
    "pd.set_option('display.max_columns', 50)"
   ]
  },
  {
   "cell_type": "code",
   "execution_count": 5,
   "metadata": {},
   "outputs": [
    {
     "data": {
      "text/html": [
       "<div>\n",
       "<style scoped>\n",
       "    .dataframe tbody tr th:only-of-type {\n",
       "        vertical-align: middle;\n",
       "    }\n",
       "\n",
       "    .dataframe tbody tr th {\n",
       "        vertical-align: top;\n",
       "    }\n",
       "\n",
       "    .dataframe thead th {\n",
       "        text-align: right;\n",
       "    }\n",
       "</style>\n",
       "<table border=\"1\" class=\"dataframe\">\n",
       "  <thead>\n",
       "    <tr style=\"text-align: right;\">\n",
       "      <th></th>\n",
       "      <th>CASE_STATUS</th>\n",
       "      <th>TOTAL_WORKERS</th>\n",
       "      <th>NEW_EMPLOYMENT</th>\n",
       "      <th>CONTINUED_EMPLOYMENT</th>\n",
       "      <th>CHANGE_PREVIOUS_EMPLOYMENT</th>\n",
       "      <th>NEW_CONCURRENT_EMPLOYMENT</th>\n",
       "      <th>CHANGE_EMPLOYER</th>\n",
       "      <th>AMENDED_PETITION</th>\n",
       "      <th>PREVAILING_WAGE</th>\n",
       "      <th>WAGE_RATE_OF_PAY_FROM</th>\n",
       "      <th>FULL_TIME_POSITION_N</th>\n",
       "      <th>FULL_TIME_POSITION_Y</th>\n",
       "      <th>PW_SOURCE_CBA</th>\n",
       "      <th>PW_SOURCE_DBA</th>\n",
       "      <th>PW_SOURCE_OES</th>\n",
       "      <th>PW_SOURCE_Other</th>\n",
       "      <th>PW_SOURCE_SCA</th>\n",
       "      <th>WAGE_RATE_OF_PAY_TO_N</th>\n",
       "      <th>WAGE_RATE_OF_PAY_TO_Y</th>\n",
       "      <th>H1B_DEPENDENT_N</th>\n",
       "      <th>H1B_DEPENDENT_Y</th>\n",
       "      <th>WILLFUL_VIOLATOR_N</th>\n",
       "      <th>WILLFUL_VIOLATOR_Y</th>\n",
       "    </tr>\n",
       "  </thead>\n",
       "  <tbody>\n",
       "    <tr>\n",
       "      <th>0</th>\n",
       "      <td>1</td>\n",
       "      <td>1</td>\n",
       "      <td>1</td>\n",
       "      <td>0</td>\n",
       "      <td>0</td>\n",
       "      <td>0</td>\n",
       "      <td>0</td>\n",
       "      <td>0</td>\n",
       "      <td>59197.00</td>\n",
       "      <td>65811.00</td>\n",
       "      <td>0</td>\n",
       "      <td>1</td>\n",
       "      <td>0</td>\n",
       "      <td>0</td>\n",
       "      <td>1</td>\n",
       "      <td>0</td>\n",
       "      <td>0</td>\n",
       "      <td>0</td>\n",
       "      <td>1</td>\n",
       "      <td>1</td>\n",
       "      <td>0</td>\n",
       "      <td>1</td>\n",
       "      <td>0</td>\n",
       "    </tr>\n",
       "    <tr>\n",
       "      <th>1</th>\n",
       "      <td>1</td>\n",
       "      <td>1</td>\n",
       "      <td>1</td>\n",
       "      <td>0</td>\n",
       "      <td>0</td>\n",
       "      <td>0</td>\n",
       "      <td>0</td>\n",
       "      <td>0</td>\n",
       "      <td>49800.00</td>\n",
       "      <td>53000.00</td>\n",
       "      <td>0</td>\n",
       "      <td>1</td>\n",
       "      <td>0</td>\n",
       "      <td>0</td>\n",
       "      <td>0</td>\n",
       "      <td>1</td>\n",
       "      <td>0</td>\n",
       "      <td>0</td>\n",
       "      <td>1</td>\n",
       "      <td>1</td>\n",
       "      <td>0</td>\n",
       "      <td>1</td>\n",
       "      <td>0</td>\n",
       "    </tr>\n",
       "    <tr>\n",
       "      <th>2</th>\n",
       "      <td>1</td>\n",
       "      <td>2</td>\n",
       "      <td>2</td>\n",
       "      <td>0</td>\n",
       "      <td>0</td>\n",
       "      <td>0</td>\n",
       "      <td>0</td>\n",
       "      <td>0</td>\n",
       "      <td>76502.00</td>\n",
       "      <td>77000.00</td>\n",
       "      <td>0</td>\n",
       "      <td>1</td>\n",
       "      <td>0</td>\n",
       "      <td>0</td>\n",
       "      <td>1</td>\n",
       "      <td>0</td>\n",
       "      <td>0</td>\n",
       "      <td>1</td>\n",
       "      <td>0</td>\n",
       "      <td>0</td>\n",
       "      <td>1</td>\n",
       "      <td>1</td>\n",
       "      <td>0</td>\n",
       "    </tr>\n",
       "    <tr>\n",
       "      <th>3</th>\n",
       "      <td>1</td>\n",
       "      <td>1</td>\n",
       "      <td>0</td>\n",
       "      <td>0</td>\n",
       "      <td>0</td>\n",
       "      <td>0</td>\n",
       "      <td>1</td>\n",
       "      <td>0</td>\n",
       "      <td>116605.00</td>\n",
       "      <td>132500.00</td>\n",
       "      <td>0</td>\n",
       "      <td>1</td>\n",
       "      <td>0</td>\n",
       "      <td>0</td>\n",
       "      <td>1</td>\n",
       "      <td>0</td>\n",
       "      <td>0</td>\n",
       "      <td>1</td>\n",
       "      <td>0</td>\n",
       "      <td>1</td>\n",
       "      <td>0</td>\n",
       "      <td>1</td>\n",
       "      <td>0</td>\n",
       "    </tr>\n",
       "    <tr>\n",
       "      <th>4</th>\n",
       "      <td>1</td>\n",
       "      <td>1</td>\n",
       "      <td>1</td>\n",
       "      <td>0</td>\n",
       "      <td>0</td>\n",
       "      <td>0</td>\n",
       "      <td>0</td>\n",
       "      <td>0</td>\n",
       "      <td>59405.00</td>\n",
       "      <td>71750.00</td>\n",
       "      <td>0</td>\n",
       "      <td>1</td>\n",
       "      <td>0</td>\n",
       "      <td>0</td>\n",
       "      <td>1</td>\n",
       "      <td>0</td>\n",
       "      <td>0</td>\n",
       "      <td>1</td>\n",
       "      <td>0</td>\n",
       "      <td>1</td>\n",
       "      <td>0</td>\n",
       "      <td>1</td>\n",
       "      <td>0</td>\n",
       "    </tr>\n",
       "    <tr>\n",
       "      <th>5</th>\n",
       "      <td>1</td>\n",
       "      <td>1</td>\n",
       "      <td>1</td>\n",
       "      <td>0</td>\n",
       "      <td>0</td>\n",
       "      <td>0</td>\n",
       "      <td>0</td>\n",
       "      <td>0</td>\n",
       "      <td>52915.00</td>\n",
       "      <td>61000.00</td>\n",
       "      <td>0</td>\n",
       "      <td>1</td>\n",
       "      <td>0</td>\n",
       "      <td>0</td>\n",
       "      <td>0</td>\n",
       "      <td>1</td>\n",
       "      <td>0</td>\n",
       "      <td>1</td>\n",
       "      <td>0</td>\n",
       "      <td>0</td>\n",
       "      <td>1</td>\n",
       "      <td>1</td>\n",
       "      <td>0</td>\n",
       "    </tr>\n",
       "    <tr>\n",
       "      <th>6</th>\n",
       "      <td>1</td>\n",
       "      <td>1</td>\n",
       "      <td>1</td>\n",
       "      <td>0</td>\n",
       "      <td>0</td>\n",
       "      <td>0</td>\n",
       "      <td>0</td>\n",
       "      <td>0</td>\n",
       "      <td>51730.00</td>\n",
       "      <td>60500.00</td>\n",
       "      <td>0</td>\n",
       "      <td>1</td>\n",
       "      <td>0</td>\n",
       "      <td>0</td>\n",
       "      <td>0</td>\n",
       "      <td>1</td>\n",
       "      <td>0</td>\n",
       "      <td>1</td>\n",
       "      <td>0</td>\n",
       "      <td>0</td>\n",
       "      <td>1</td>\n",
       "      <td>1</td>\n",
       "      <td>0</td>\n",
       "    </tr>\n",
       "    <tr>\n",
       "      <th>7</th>\n",
       "      <td>1</td>\n",
       "      <td>1</td>\n",
       "      <td>1</td>\n",
       "      <td>0</td>\n",
       "      <td>0</td>\n",
       "      <td>0</td>\n",
       "      <td>0</td>\n",
       "      <td>0</td>\n",
       "      <td>58053.00</td>\n",
       "      <td>60450.00</td>\n",
       "      <td>0</td>\n",
       "      <td>1</td>\n",
       "      <td>0</td>\n",
       "      <td>0</td>\n",
       "      <td>0</td>\n",
       "      <td>1</td>\n",
       "      <td>0</td>\n",
       "      <td>1</td>\n",
       "      <td>0</td>\n",
       "      <td>0</td>\n",
       "      <td>1</td>\n",
       "      <td>1</td>\n",
       "      <td>0</td>\n",
       "    </tr>\n",
       "    <tr>\n",
       "      <th>8</th>\n",
       "      <td>1</td>\n",
       "      <td>1</td>\n",
       "      <td>1</td>\n",
       "      <td>0</td>\n",
       "      <td>0</td>\n",
       "      <td>0</td>\n",
       "      <td>0</td>\n",
       "      <td>0</td>\n",
       "      <td>46821.00</td>\n",
       "      <td>50000.00</td>\n",
       "      <td>0</td>\n",
       "      <td>1</td>\n",
       "      <td>0</td>\n",
       "      <td>0</td>\n",
       "      <td>0</td>\n",
       "      <td>1</td>\n",
       "      <td>0</td>\n",
       "      <td>1</td>\n",
       "      <td>0</td>\n",
       "      <td>0</td>\n",
       "      <td>1</td>\n",
       "      <td>1</td>\n",
       "      <td>0</td>\n",
       "    </tr>\n",
       "    <tr>\n",
       "      <th>9</th>\n",
       "      <td>1</td>\n",
       "      <td>1</td>\n",
       "      <td>1</td>\n",
       "      <td>0</td>\n",
       "      <td>0</td>\n",
       "      <td>0</td>\n",
       "      <td>0</td>\n",
       "      <td>0</td>\n",
       "      <td>58053.00</td>\n",
       "      <td>60400.00</td>\n",
       "      <td>0</td>\n",
       "      <td>1</td>\n",
       "      <td>0</td>\n",
       "      <td>0</td>\n",
       "      <td>0</td>\n",
       "      <td>1</td>\n",
       "      <td>0</td>\n",
       "      <td>1</td>\n",
       "      <td>0</td>\n",
       "      <td>0</td>\n",
       "      <td>1</td>\n",
       "      <td>1</td>\n",
       "      <td>0</td>\n",
       "    </tr>\n",
       "  </tbody>\n",
       "</table>\n",
       "</div>"
      ],
      "text/plain": [
       "   CASE_STATUS  TOTAL_WORKERS  NEW_EMPLOYMENT  CONTINUED_EMPLOYMENT  \\\n",
       "0            1              1               1                     0   \n",
       "1            1              1               1                     0   \n",
       "2            1              2               2                     0   \n",
       "3            1              1               0                     0   \n",
       "4            1              1               1                     0   \n",
       "5            1              1               1                     0   \n",
       "6            1              1               1                     0   \n",
       "7            1              1               1                     0   \n",
       "8            1              1               1                     0   \n",
       "9            1              1               1                     0   \n",
       "\n",
       "   CHANGE_PREVIOUS_EMPLOYMENT  NEW_CONCURRENT_EMPLOYMENT  CHANGE_EMPLOYER  \\\n",
       "0                           0                          0                0   \n",
       "1                           0                          0                0   \n",
       "2                           0                          0                0   \n",
       "3                           0                          0                1   \n",
       "4                           0                          0                0   \n",
       "5                           0                          0                0   \n",
       "6                           0                          0                0   \n",
       "7                           0                          0                0   \n",
       "8                           0                          0                0   \n",
       "9                           0                          0                0   \n",
       "\n",
       "   AMENDED_PETITION  PREVAILING_WAGE  WAGE_RATE_OF_PAY_FROM  \\\n",
       "0                 0         59197.00               65811.00   \n",
       "1                 0         49800.00               53000.00   \n",
       "2                 0         76502.00               77000.00   \n",
       "3                 0        116605.00              132500.00   \n",
       "4                 0         59405.00               71750.00   \n",
       "5                 0         52915.00               61000.00   \n",
       "6                 0         51730.00               60500.00   \n",
       "7                 0         58053.00               60450.00   \n",
       "8                 0         46821.00               50000.00   \n",
       "9                 0         58053.00               60400.00   \n",
       "\n",
       "   FULL_TIME_POSITION_N  FULL_TIME_POSITION_Y  PW_SOURCE_CBA  PW_SOURCE_DBA  \\\n",
       "0                     0                     1              0              0   \n",
       "1                     0                     1              0              0   \n",
       "2                     0                     1              0              0   \n",
       "3                     0                     1              0              0   \n",
       "4                     0                     1              0              0   \n",
       "5                     0                     1              0              0   \n",
       "6                     0                     1              0              0   \n",
       "7                     0                     1              0              0   \n",
       "8                     0                     1              0              0   \n",
       "9                     0                     1              0              0   \n",
       "\n",
       "   PW_SOURCE_OES  PW_SOURCE_Other  PW_SOURCE_SCA  WAGE_RATE_OF_PAY_TO_N  \\\n",
       "0              1                0              0                      0   \n",
       "1              0                1              0                      0   \n",
       "2              1                0              0                      1   \n",
       "3              1                0              0                      1   \n",
       "4              1                0              0                      1   \n",
       "5              0                1              0                      1   \n",
       "6              0                1              0                      1   \n",
       "7              0                1              0                      1   \n",
       "8              0                1              0                      1   \n",
       "9              0                1              0                      1   \n",
       "\n",
       "   WAGE_RATE_OF_PAY_TO_Y  H1B_DEPENDENT_N  H1B_DEPENDENT_Y  \\\n",
       "0                      1                1                0   \n",
       "1                      1                1                0   \n",
       "2                      0                0                1   \n",
       "3                      0                1                0   \n",
       "4                      0                1                0   \n",
       "5                      0                0                1   \n",
       "6                      0                0                1   \n",
       "7                      0                0                1   \n",
       "8                      0                0                1   \n",
       "9                      0                0                1   \n",
       "\n",
       "   WILLFUL_VIOLATOR_N  WILLFUL_VIOLATOR_Y  \n",
       "0                   1                   0  \n",
       "1                   1                   0  \n",
       "2                   1                   0  \n",
       "3                   1                   0  \n",
       "4                   1                   0  \n",
       "5                   1                   0  \n",
       "6                   1                   0  \n",
       "7                   1                   0  \n",
       "8                   1                   0  \n",
       "9                   1                   0  "
      ]
     },
     "execution_count": 5,
     "metadata": {},
     "output_type": "execute_result"
    }
   ],
   "source": [
    "cleaned_data.head(10)"
   ]
  },
  {
   "cell_type": "code",
   "execution_count": 6,
   "metadata": {},
   "outputs": [
    {
     "data": {
      "image/png": "[encoded data removed]",
      "text/plain": [
       "<matplotlib.figure.Figure at 0x21779809e48>"
      ]
     },
     "metadata": {},
     "output_type": "display_data"
    }
   ],
   "source": [
    "# output plot size\n",
    "pylab.rcParams['figure.figsize'] = (8, 6)\n",
    "# seaborn to plot collision severity count\n",
    "sns.countplot(cleaned_data['CASE_STATUS'], label='Count', palette=\"Set1\");"
   ]
  },
  {
   "cell_type": "code",
   "execution_count": 7,
   "metadata": {
    "collapsed": true
   },
   "outputs": [],
   "source": [
    "X = cleaned_data.iloc[:, 1:]\n",
    "Y = cleaned_data.iloc[:, 0]"
   ]
  },
  {
   "cell_type": "code",
   "execution_count": 8,
   "metadata": {},
   "outputs": [
    {
     "data": {
      "text/plain": [
       "DecisionTreeClassifier(class_weight=None, criterion='gini', max_depth=2,\n",
       "            max_features=None, max_leaf_nodes=None,\n",
       "            min_impurity_decrease=0.0, min_impurity_split=None,\n",
       "            min_samples_leaf=1, min_samples_split=2,\n",
       "            min_weight_fraction_leaf=0.0, presort=False, random_state=None,\n",
       "            splitter='best')"
      ]
     },
     "execution_count": 8,
     "metadata": {},
     "output_type": "execute_result"
    }
   ],
   "source": [
    "dtc = DecisionTreeClassifier(max_depth = 2)\n",
    "dtc.fit(X, Y)"
   ]
  },
  {
   "cell_type": "code",
   "execution_count": 9,
   "metadata": {},
   "outputs": [
    {
     "data": {
      "text/plain": [
       "array([[ 0.01213291,  0.98786709]])"
      ]
     },
     "execution_count": 9,
     "metadata": {},
     "output_type": "execute_result"
    }
   ],
   "source": [
    "dtc.predict_proba([[0, 1, 0, 0, 0, 1, 0, 0, 50000.00, 54000.00, 0, 1, 0, 0, 1, 0, 0, 0, 0, 1, 0, 1]])"
   ]
  },
  {
   "cell_type": "code",
   "execution_count": 10,
   "metadata": {},
   "outputs": [
    {
     "data": {
      "text/plain": [
       "array([[ 0.01213291,  0.98786709]])"
      ]
     },
     "execution_count": 10,
     "metadata": {},
     "output_type": "execute_result"
    }
   ],
   "source": [
    "dtc.predict_proba([[0, 1, 0, 0, 0, 1, 0, 0, 80000.00, 84000.00, 0, 1, 0, 1, 1, 0, 0, 0, 0, 1, 0, 1]])"
   ]
  },
  {
   "cell_type": "code",
   "execution_count": 11,
   "metadata": {
    "collapsed": true
   },
   "outputs": [],
   "source": [
    "# split the non-resampled data in test and training sets:\n",
    "\n",
    "X_train, X_test, y_train, y_test = train_test_split(X, Y)"
   ]
  },
  {
   "cell_type": "code",
   "execution_count": 12,
   "metadata": {},
   "outputs": [
    {
     "name": "stdout",
     "output_type": "stream",
     "text": [
      "             precision    recall  f1-score   support\n",
      "\n",
      "          0       1.00      0.01      0.01      1864\n",
      "          1       0.99      1.00      0.99    145592\n",
      "\n",
      "avg / total       0.99      0.99      0.98    147456\n",
      "\n"
     ]
    }
   ],
   "source": [
    "# print out the performance metrics:\n",
    "dtc.fit(X_train, y_train)\n",
    "prediction_unbalanced = dtc.predict(X_test)\n",
    "print(classification_report(y_test, prediction_unbalanced))"
   ]
  },
  {
   "cell_type": "markdown",
   "metadata": {},
   "source": [
    "The precision is great but the recall is really bad. "
   ]
  },
  {
   "cell_type": "markdown",
   "metadata": {},
   "source": [
    "### Under sampling the dominant class"
   ]
  },
  {
   "cell_type": "code",
   "execution_count": 13,
   "metadata": {
    "collapsed": true
   },
   "outputs": [],
   "source": [
    "clone_features = cleaned_data.iloc[:, 1:]\n",
    "clone_target = cleaned_data.iloc[:, 0]"
   ]
  },
  {
   "cell_type": "code",
   "execution_count": 14,
   "metadata": {},
   "outputs": [
    {
     "name": "stdout",
     "output_type": "stream",
     "text": [
      "(589822, 22)\n",
      "(589822,)\n"
     ]
    }
   ],
   "source": [
    "print(clone_features.shape)\n",
    "print(clone_target.shape)"
   ]
  },
  {
   "cell_type": "code",
   "execution_count": 15,
   "metadata": {
    "collapsed": true
   },
   "outputs": [],
   "source": [
    "# for randomly undersampling the dominant class\n",
    "from imblearn.under_sampling import RandomUnderSampler\n",
    "from collections import Counter"
   ]
  },
  {
   "cell_type": "code",
   "execution_count": 69,
   "metadata": {},
   "outputs": [
    {
     "name": "stdout",
     "output_type": "stream",
     "text": [
      "[(0, 7353), (1, 7353)]\n"
     ]
    }
   ],
   "source": [
    "# randomly undersample the dominant class, producing a 1:1 ratio:\n",
    "\n",
    "us = RandomUnderSampler(ratio = 1, random_state = 1)\n",
    "X_resampled, y_resampled = us.fit_sample(clone_features, clone_target)\n",
    "\n",
    "# print count of the new distribution of class labels following undersampling:\n",
    "print(sorted(Counter(y_resampled).items()))"
   ]
  },
  {
   "cell_type": "code",
   "execution_count": 17,
   "metadata": {},
   "outputs": [
    {
     "data": {
      "image/png": "[encoded data removed]",
      "text/plain": [
       "<matplotlib.figure.Figure at 0x2177c441208>"
      ]
     },
     "metadata": {},
     "output_type": "display_data"
    }
   ],
   "source": [
    "# should see class distribution now:\n",
    "sns.countplot(y_resampled, label='Count', palette=\"Set1\");"
   ]
  },
  {
   "cell_type": "code",
   "execution_count": 18,
   "metadata": {},
   "outputs": [
    {
     "data": {
      "text/plain": [
       "DecisionTreeClassifier(class_weight=None, criterion='gini', max_depth=2,\n",
       "            max_features=None, max_leaf_nodes=None,\n",
       "            min_impurity_decrease=0.0, min_impurity_split=None,\n",
       "            min_samples_leaf=1, min_samples_split=2,\n",
       "            min_weight_fraction_leaf=0.0, presort=False, random_state=None,\n",
       "            splitter='best')"
      ]
     },
     "execution_count": 18,
     "metadata": {},
     "output_type": "execute_result"
    }
   ],
   "source": [
    "dtc.fit(X_resampled, y_resampled)"
   ]
  },
  {
   "cell_type": "code",
   "execution_count": 19,
   "metadata": {},
   "outputs": [
    {
     "data": {
      "text/plain": [
       "array([[ 0.57544757,  0.42455243]])"
      ]
     },
     "execution_count": 19,
     "metadata": {},
     "output_type": "execute_result"
    }
   ],
   "source": [
    "dtc.predict_proba([[0, 1, 0, 0, 0, 1, 0, 0, 50000.00, 54000.00, 0, 1, 0, 0, 1, 0, 0, 0, 0, 1, 0, 1]])"
   ]
  },
  {
   "cell_type": "code",
   "execution_count": 20,
   "metadata": {},
   "outputs": [],
   "source": [
    "# split the non-resampled data in test and training sets:\n",
    "\n",
    "X_train_resamp, X_test_resamp, y_train_resamp, y_test_resamp = train_test_split(X_resampled, y_resampled)"
   ]
  },
  {
   "cell_type": "code",
   "execution_count": 21,
   "metadata": {},
   "outputs": [
    {
     "name": "stdout",
     "output_type": "stream",
     "text": [
      "0.606\n"
     ]
    }
   ],
   "source": [
    "dtc.fit(X_train_resamp, y_train_resamp)\n",
    "predictions = dtc.predict(X_test_resamp)\n",
    "# print out the accuracy score:\n",
    "\n",
    "print(round(accuracy_score(y_test_resamp,predictions), 3))"
   ]
  },
  {
   "cell_type": "code",
   "execution_count": 22,
   "metadata": {},
   "outputs": [
    {
     "name": "stdout",
     "output_type": "stream",
     "text": [
      "[[ 813 1012]\n",
      " [ 436 1416]]\n"
     ]
    }
   ],
   "source": [
    "# print the confusion matrix of the predicted class labels:\n",
    "\n",
    "print(confusion_matrix(y_test_resamp,predictions))"
   ]
  },
  {
   "cell_type": "code",
   "execution_count": 23,
   "metadata": {},
   "outputs": [
    {
     "name": "stdout",
     "output_type": "stream",
     "text": [
      "             precision    recall  f1-score   support\n",
      "\n",
      "          0       0.65      0.45      0.53      1825\n",
      "          1       0.58      0.76      0.66      1852\n",
      "\n",
      "avg / total       0.62      0.61      0.60      3677\n",
      "\n"
     ]
    }
   ],
   "source": [
    "# print out the performance metrics:\n",
    "\n",
    "print(classification_report(y_test_resamp,predictions))"
   ]
  },
  {
   "cell_type": "markdown",
   "metadata": {},
   "source": [
    "### Ensemble Learning - Bagging/Pasting, Random Forests, Boosting"
   ]
  },
  {
   "cell_type": "markdown",
   "metadata": {},
   "source": [
    "### Bagging"
   ]
  },
  {
   "cell_type": "code",
   "execution_count": 24,
   "metadata": {
    "collapsed": true
   },
   "outputs": [],
   "source": [
    "from sklearn.ensemble import BaggingClassifier"
   ]
  },
  {
   "cell_type": "markdown",
   "metadata": {},
   "source": [
    "Typically max samples is set to the size of the training set."
   ]
  },
  {
   "cell_type": "code",
   "execution_count": 25,
   "metadata": {},
   "outputs": [
    {
     "data": {
      "text/plain": [
       "11029"
      ]
     },
     "execution_count": 25,
     "metadata": {},
     "output_type": "execute_result"
    }
   ],
   "source": [
    "y_train_resamp.size"
   ]
  },
  {
   "cell_type": "code",
   "execution_count": 26,
   "metadata": {},
   "outputs": [
    {
     "data": {
      "text/plain": [
       "BaggingClassifier(base_estimator=DecisionTreeClassifier(class_weight=None, criterion='gini', max_depth=None,\n",
       "            max_features=None, max_leaf_nodes=None,\n",
       "            min_impurity_decrease=0.0, min_impurity_split=None,\n",
       "            min_samples_leaf=1, min_samples_split=2,\n",
       "            min_weight_fraction_leaf=0.0, presort=False, random_state=None,\n",
       "            splitter='best'),\n",
       "         bootstrap=True, bootstrap_features=False, max_features=1.0,\n",
       "         max_samples=11029, n_estimators=500, n_jobs=1, oob_score=True,\n",
       "         random_state=None, verbose=0, warm_start=False)"
      ]
     },
     "execution_count": 26,
     "metadata": {},
     "output_type": "execute_result"
    }
   ],
   "source": [
    "bag_dct = BaggingClassifier(\n",
    "    DecisionTreeClassifier(), n_estimators =500,\n",
    "    max_samples = 11029, bootstrap =True, oob_score = True)\n",
    "\n",
    "bag_dct.fit(X_train_resamp, y_train_resamp)"
   ]
  },
  {
   "cell_type": "markdown",
   "metadata": {},
   "source": [
    "**Out-of-Bag Evaluation**"
   ]
  },
  {
   "cell_type": "code",
   "execution_count": 27,
   "metadata": {},
   "outputs": [
    {
     "name": "stdout",
     "output_type": "stream",
     "text": [
      "0.691\n"
     ]
    }
   ],
   "source": [
    "print(round(bag_dct.oob_score_, 3))"
   ]
  },
  {
   "cell_type": "markdown",
   "metadata": {},
   "source": [
    "Oob says the model should get about 0.71 accuracy on the test set. Let's see:"
   ]
  },
  {
   "cell_type": "markdown",
   "metadata": {},
   "source": [
    "I can look at the class probability for each record:"
   ]
  },
  {
   "cell_type": "code",
   "execution_count": 28,
   "metadata": {},
   "outputs": [
    {
     "data": {
      "text/plain": [
       "array([[ 0.49577745,  0.50422255],\n",
       "       [ 0.34946237,  0.65053763],\n",
       "       [ 0.01630435,  0.98369565],\n",
       "       ..., \n",
       "       [ 0.16981132,  0.83018868],\n",
       "       [ 0.05780347,  0.94219653],\n",
       "       [ 0.3343696 ,  0.6656304 ]])"
      ]
     },
     "execution_count": 28,
     "metadata": {},
     "output_type": "execute_result"
    }
   ],
   "source": [
    "bag_dct.oob_decision_function_"
   ]
  },
  {
   "cell_type": "markdown",
   "metadata": {},
   "source": [
    "Notice that the first record quite difficult for the bagged model to classify (the probabilities are close), but some of the other ones are much easier. "
   ]
  },
  {
   "cell_type": "code",
   "execution_count": 29,
   "metadata": {
    "collapsed": true
   },
   "outputs": [],
   "source": [
    "bag_preds = bag_dct.predict(X_test_resamp)"
   ]
  },
  {
   "cell_type": "code",
   "execution_count": 30,
   "metadata": {},
   "outputs": [
    {
     "name": "stdout",
     "output_type": "stream",
     "text": [
      "0.701\n"
     ]
    }
   ],
   "source": [
    "print(round(accuracy_score(y_test_resamp,bag_preds), 3))"
   ]
  },
  {
   "cell_type": "code",
   "execution_count": 31,
   "metadata": {},
   "outputs": [
    {
     "name": "stdout",
     "output_type": "stream",
     "text": [
      "             precision    recall  f1-score   support\n",
      "\n",
      "          0       0.70      0.69      0.70      1825\n",
      "          1       0.70      0.71      0.71      1852\n",
      "\n",
      "avg / total       0.70      0.70      0.70      3677\n",
      "\n"
     ]
    }
   ],
   "source": [
    "# print out the performance metrics:\n",
    "\n",
    "print(classification_report(y_test_resamp,bag_preds))"
   ]
  },
  {
   "cell_type": "markdown",
   "metadata": {},
   "source": [
    "### Pasting"
   ]
  },
  {
   "cell_type": "markdown",
   "metadata": {},
   "source": [
    "Without bootstrap resampling. Less bias, more variance. "
   ]
  },
  {
   "cell_type": "code",
   "execution_count": 32,
   "metadata": {},
   "outputs": [
    {
     "data": {
      "text/plain": [
       "BaggingClassifier(base_estimator=DecisionTreeClassifier(class_weight=None, criterion='gini', max_depth=None,\n",
       "            max_features=None, max_leaf_nodes=None,\n",
       "            min_impurity_decrease=0.0, min_impurity_split=None,\n",
       "            min_samples_leaf=1, min_samples_split=2,\n",
       "            min_weight_fraction_leaf=0.0, presort=False, random_state=None,\n",
       "            splitter='best'),\n",
       "         bootstrap=False, bootstrap_features=False, max_features=1.0,\n",
       "         max_samples=11029, n_estimators=500, n_jobs=1, oob_score=False,\n",
       "         random_state=None, verbose=0, warm_start=False)"
      ]
     },
     "execution_count": 32,
     "metadata": {},
     "output_type": "execute_result"
    }
   ],
   "source": [
    "paste_dct = BaggingClassifier(\n",
    "     DecisionTreeClassifier(), n_estimators =500,\n",
    "     max_samples = 11029, bootstrap =False)\n",
    "\n",
    "paste_dct.fit(X_train_resamp, y_train_resamp)"
   ]
  },
  {
   "cell_type": "code",
   "execution_count": 33,
   "metadata": {
    "collapsed": true
   },
   "outputs": [],
   "source": [
    "paste_preds = paste_dct.predict(X_test_resamp)"
   ]
  },
  {
   "cell_type": "code",
   "execution_count": 34,
   "metadata": {},
   "outputs": [
    {
     "name": "stdout",
     "output_type": "stream",
     "text": [
      "0.663\n"
     ]
    }
   ],
   "source": [
    "print(round(accuracy_score(y_test_resamp,paste_preds), 3))"
   ]
  },
  {
   "cell_type": "code",
   "execution_count": 35,
   "metadata": {},
   "outputs": [
    {
     "name": "stdout",
     "output_type": "stream",
     "text": [
      "             precision    recall  f1-score   support\n",
      "\n",
      "          0       0.66      0.66      0.66      1825\n",
      "          1       0.67      0.66      0.66      1852\n",
      "\n",
      "avg / total       0.66      0.66      0.66      3677\n",
      "\n"
     ]
    }
   ],
   "source": [
    "print(classification_report(y_test_resamp,paste_preds))"
   ]
  },
  {
   "cell_type": "code",
   "execution_count": null,
   "metadata": {
    "collapsed": true
   },
   "outputs": [],
   "source": []
  },
  {
   "cell_type": "markdown",
   "metadata": {},
   "source": [
    "### Random Forests "
   ]
  },
  {
   "cell_type": "markdown",
   "metadata": {},
   "source": [
    "Again, trades higher bias for lower variance."
   ]
  },
  {
   "cell_type": "markdown",
   "metadata": {},
   "source": [
    "**Balanced data** "
   ]
  },
  {
   "cell_type": "code",
   "execution_count": 400,
   "metadata": {
    "collapsed": true
   },
   "outputs": [],
   "source": [
    "rnd_for = RandomForestClassifier(\n",
    "    n_estimators=500, max_leaf_nodes=None)"
   ]
  },
  {
   "cell_type": "code",
   "execution_count": 356,
   "metadata": {
    "collapsed": true
   },
   "outputs": [],
   "source": [
    "rnd_for.fit(X_train_resamp, y_train_resamp)\n",
    "rnd_for_preds = rnd_for.predict(X_test_resamp)"
   ]
  },
  {
   "cell_type": "code",
   "execution_count": 357,
   "metadata": {},
   "outputs": [
    {
     "name": "stdout",
     "output_type": "stream",
     "text": [
      "0.695\n"
     ]
    }
   ],
   "source": [
    "print(round(accuracy_score(y_test_resamp,rnd_for_preds), 3))"
   ]
  },
  {
   "cell_type": "code",
   "execution_count": 358,
   "metadata": {},
   "outputs": [
    {
     "name": "stdout",
     "output_type": "stream",
     "text": [
      "             precision    recall  f1-score   support\n",
      "\n",
      "          0       0.70      0.68      0.69      1825\n",
      "          1       0.69      0.71      0.70      1852\n",
      "\n",
      "avg / total       0.69      0.69      0.69      3677\n",
      "\n"
     ]
    }
   ],
   "source": [
    "print(classification_report(y_test_resamp,rnd_for_preds))"
   ]
  },
  {
   "cell_type": "markdown",
   "metadata": {},
   "source": [
    "Roughly equivalent bagged model with decision tree pasted in."
   ]
  },
  {
   "cell_type": "code",
   "execution_count": 40,
   "metadata": {
    "collapsed": true
   },
   "outputs": [],
   "source": [
    "bag_rnd = BaggingClassifier(\n",
    "    DecisionTreeClassifier(splitter=\"random\"),\n",
    "    n_estimators = 500, max_samples = 1.0, bootstrap = True,\n",
    ")"
   ]
  },
  {
   "cell_type": "code",
   "execution_count": 41,
   "metadata": {
    "collapsed": true
   },
   "outputs": [],
   "source": [
    "bag_rnd.fit(X_train_resamp, y_train_resamp)\n",
    "bag_rnd_preds = bag_rnd.predict(X_test_resamp)"
   ]
  },
  {
   "cell_type": "code",
   "execution_count": 42,
   "metadata": {},
   "outputs": [
    {
     "name": "stdout",
     "output_type": "stream",
     "text": [
      "0.703\n"
     ]
    }
   ],
   "source": [
    "print(round(accuracy_score(y_test_resamp,bag_rnd_preds), 3))"
   ]
  },
  {
   "cell_type": "code",
   "execution_count": null,
   "metadata": {
    "collapsed": true
   },
   "outputs": [],
   "source": []
  },
  {
   "cell_type": "markdown",
   "metadata": {},
   "source": [
    "### Feature Importance"
   ]
  },
  {
   "cell_type": "code",
   "execution_count": 362,
   "metadata": {},
   "outputs": [
    {
     "name": "stdout",
     "output_type": "stream",
     "text": [
      "Variable: PREVAILING_WAGE      Importance: 0.42\n",
      "Variable: WAGE_RATE_OF_PAY_FROM Importance: 0.38\n",
      "Variable: TOTAL_WORKERS        Importance: 0.02\n",
      "Variable: NEW_EMPLOYMENT       Importance: 0.02\n",
      "Variable: CONTINUED_EMPLOYMENT Importance: 0.02\n",
      "Variable: AMENDED_PETITION     Importance: 0.02\n",
      "Variable: H1B_DEPENDENT_N      Importance: 0.02\n",
      "Variable: H1B_DEPENDENT_Y      Importance: 0.02\n",
      "Variable: CHANGE_PREVIOUS_EMPLOYMENT Importance: 0.01\n",
      "Variable: CHANGE_EMPLOYER      Importance: 0.01\n",
      "Variable: PW_SOURCE_OES        Importance: 0.01\n",
      "Variable: PW_SOURCE_Other      Importance: 0.01\n",
      "Variable: WAGE_RATE_OF_PAY_TO_N Importance: 0.01\n",
      "Variable: WAGE_RATE_OF_PAY_TO_Y Importance: 0.01\n",
      "Variable: NEW_CONCURRENT_EMPLOYMENT Importance: 0.0\n",
      "Variable: FULL_TIME_POSITION_N Importance: 0.0\n",
      "Variable: FULL_TIME_POSITION_Y Importance: 0.0\n",
      "Variable: PW_SOURCE_CBA        Importance: 0.0\n",
      "Variable: PW_SOURCE_DBA        Importance: 0.0\n",
      "Variable: PW_SOURCE_SCA        Importance: 0.0\n",
      "Variable: WILLFUL_VIOLATOR_N   Importance: 0.0\n",
      "Variable: WILLFUL_VIOLATOR_Y   Importance: 0.0\n"
     ]
    }
   ],
   "source": [
    "# Get numerical feature importances\n",
    "importances = list(rnd_for.feature_importances_)\n",
    "# List of tuples with variable and importance\n",
    "feature_importances = [(feature, round(importance, 2)) for feature, importance in zip(cleaned_data.iloc[:, 1:].columns, importances)]\n",
    "# Sort the feature importances by most important first\n",
    "feature_importances = sorted(feature_importances, key = lambda x: x[1], reverse = True)\n",
    "# Print out the feature and importances \n",
    "[print('Variable: {:20} Importance: {}'.format(*pair)) for pair in feature_importances];"
   ]
  },
  {
   "cell_type": "code",
   "execution_count": 360,
   "metadata": {},
   "outputs": [
    {
     "name": "stdout",
     "output_type": "stream",
     "text": [
      "TOTAL_WORKERS 0.0242085924108\n",
      "NEW_EMPLOYMENT 0.0249353965419\n",
      "CONTINUED_EMPLOYMENT 0.0180496060894\n",
      "CHANGE_PREVIOUS_EMPLOYMENT 0.0100588524276\n",
      "NEW_CONCURRENT_EMPLOYMENT 0.00284790505582\n",
      "CHANGE_EMPLOYER 0.0142805077676\n",
      "AMENDED_PETITION 0.0179718953277\n",
      "PREVAILING_WAGE 0.421888941455\n",
      "WAGE_RATE_OF_PAY_FROM 0.376136083634\n",
      "FULL_TIME_POSITION_N 0.00261840968226\n",
      "FULL_TIME_POSITION_Y 0.00280138259604\n",
      "PW_SOURCE_CBA 0.00127108464099\n",
      "PW_SOURCE_DBA 0.000339086692881\n",
      "PW_SOURCE_OES 0.0132482203191\n",
      "PW_SOURCE_Other 0.0108749078364\n",
      "PW_SOURCE_SCA 0.000258690345328\n",
      "WAGE_RATE_OF_PAY_TO_N 0.00579576457332\n",
      "WAGE_RATE_OF_PAY_TO_Y 0.00601288036569\n",
      "H1B_DEPENDENT_N 0.0223025212076\n",
      "H1B_DEPENDENT_Y 0.0232462391861\n",
      "WILLFUL_VIOLATOR_N 0.000414577652685\n",
      "WILLFUL_VIOLATOR_Y 0.0004384541916\n"
     ]
    }
   ],
   "source": [
    "for feat, score in zip(cleaned_data.iloc[:, 1:].columns, rnd_for.feature_importances_):\n",
    "    print(feat, score)"
   ]
  },
  {
   "cell_type": "code",
   "execution_count": 367,
   "metadata": {},
   "outputs": [
    {
     "data": {
      "image/png": "[encoded data removed]",
      "text/plain": [
       "<matplotlib.figure.Figure at 0x21763a44710>"
      ]
     },
     "metadata": {},
     "output_type": "display_data"
    }
   ],
   "source": [
    "# Import matplotlib for plotting and use magic command for Jupyter Notebooks\n",
    "import matplotlib.pyplot as plt\n",
    "plt.style.use('fivethirtyeight')\n",
    "# list of x locations for plotting\n",
    "x_values = list(range(len(importances)))\n",
    "# Make a bar chart\n",
    "plt.bar(x_values, importances, orientation = 'vertical')\n",
    "# Tick labels for x axis\n",
    "plt.xticks(x_values, cleaned_data.iloc[:, 1:], rotation='vertical')\n",
    "# Axis labels and title\n",
    "plt.ylabel('Relative Importance'); plt.title('Variable Importances');"
   ]
  },
  {
   "cell_type": "markdown",
   "metadata": {},
   "source": [
    "### Trim Unimportant Features?"
   ]
  },
  {
   "cell_type": "markdown",
   "metadata": {},
   "source": [
    "Unimportant features:\n",
    "\n",
    "* CHANGE_PREVIOUS_EMPLOYMENT\n",
    "* NEW_CONCURRENT_EMPLOYMENT\n",
    "* FULL_TIME_POSITION_N\n",
    "* FULL_TIME_POSITION_Y\n",
    "* PW_SOURCE_CBA\n",
    "* PW_SOURCE_DBA\n",
    "* PW_SOURCE_SCA \n",
    "* WAGE_RATE_OF_PAY_TO_N \n",
    "* WAGE_RATE_OF_PAY_TO_Y \n",
    "* WILLFUL_VIOLATOR_N\n",
    "* WILLFUL_VIOLATOR_Y"
   ]
  },
  {
   "cell_type": "code",
   "execution_count": 368,
   "metadata": {},
   "outputs": [],
   "source": [
    "noisey_cols = [ 'NEW_CONCURRENT_EMPLOYMENT',\n",
    "                'FULL_TIME_POSITION_N',\n",
    "                'FULL_TIME_POSITION_Y',\n",
    "                'PW_SOURCE_CBA',\n",
    "                'PW_SOURCE_DBA',\n",
    "                'PW_SOURCE_SCA', \n",
    "                'WILLFUL_VIOLATOR_N',\n",
    "                'WILLFUL_VIOLATOR_Y' ]\n"
   ]
  },
  {
   "cell_type": "code",
   "execution_count": 369,
   "metadata": {},
   "outputs": [
    {
     "data": {
      "text/plain": [
       "Index(['CASE_STATUS', 'TOTAL_WORKERS', 'NEW_EMPLOYMENT',\n",
       "       'CONTINUED_EMPLOYMENT', 'CHANGE_PREVIOUS_EMPLOYMENT', 'CHANGE_EMPLOYER',\n",
       "       'AMENDED_PETITION', 'PREVAILING_WAGE', 'WAGE_RATE_OF_PAY_FROM',\n",
       "       'PW_SOURCE_OES', 'PW_SOURCE_Other', 'WAGE_RATE_OF_PAY_TO_N',\n",
       "       'WAGE_RATE_OF_PAY_TO_Y', 'H1B_DEPENDENT_N', 'H1B_DEPENDENT_Y'],\n",
       "      dtype='object')"
      ]
     },
     "execution_count": 369,
     "metadata": {},
     "output_type": "execute_result"
    }
   ],
   "source": [
    "important_data  = cleaned_data.drop(noisey_cols, axis = 1)\n",
    "important_data.columns"
   ]
  },
  {
   "cell_type": "code",
   "execution_count": 370,
   "metadata": {},
   "outputs": [
    {
     "name": "stdout",
     "output_type": "stream",
     "text": [
      "(589822, 14)\n",
      "(589822,)\n"
     ]
    }
   ],
   "source": [
    "important_features = important_data.iloc[:, 1:]\n",
    "important_target = important_data.iloc[:, 0]\n",
    "print(important_features.shape)\n",
    "print(important_target.shape)"
   ]
  },
  {
   "cell_type": "markdown",
   "metadata": {},
   "source": [
    "Stripped sample space in half column-wise. "
   ]
  },
  {
   "cell_type": "markdown",
   "metadata": {},
   "source": [
    "Randomly under-sample dominant class."
   ]
  },
  {
   "cell_type": "code",
   "execution_count": 371,
   "metadata": {},
   "outputs": [
    {
     "name": "stdout",
     "output_type": "stream",
     "text": [
      "[(0, 7353), (1, 7353)]\n"
     ]
    }
   ],
   "source": [
    "X_resampled_imp, y_resampled_imp = us.fit_sample(important_features, important_target)\n",
    "\n",
    "# print count of the new distribution of class labels following undersampling:\n",
    "print(sorted(Counter(y_resampled_imp).items()))"
   ]
  },
  {
   "cell_type": "code",
   "execution_count": 372,
   "metadata": {},
   "outputs": [],
   "source": [
    "# split the non-resampled data in test and training sets:\n",
    "X_train_resamp_imp, X_test_resamp_imp, y_train_resamp_imp, y_test_resamp_imp = \\\n",
    "    train_test_split(X_resampled_imp, y_resampled_imp)"
   ]
  },
  {
   "cell_type": "code",
   "execution_count": 373,
   "metadata": {
    "collapsed": true
   },
   "outputs": [],
   "source": [
    "rnd_for.fit(X_train_resamp_imp, y_train_resamp_imp)\n",
    "rnd_for_preds_imp = rnd_for.predict(X_test_resamp_imp)"
   ]
  },
  {
   "cell_type": "code",
   "execution_count": 374,
   "metadata": {},
   "outputs": [
    {
     "name": "stdout",
     "output_type": "stream",
     "text": [
      "0.695\n"
     ]
    }
   ],
   "source": [
    "print(round(accuracy_score(y_test_resamp_imp,rnd_for_preds_imp), 3))"
   ]
  },
  {
   "cell_type": "code",
   "execution_count": 375,
   "metadata": {},
   "outputs": [
    {
     "name": "stdout",
     "output_type": "stream",
     "text": [
      "             precision    recall  f1-score   support\n",
      "\n",
      "          0       0.69      0.70      0.69      1835\n",
      "          1       0.70      0.69      0.70      1842\n",
      "\n",
      "avg / total       0.69      0.69      0.69      3677\n",
      "\n"
     ]
    }
   ],
   "source": [
    "print(classification_report(y_test_resamp_imp,rnd_for_preds_imp))"
   ]
  },
  {
   "cell_type": "markdown",
   "metadata": {},
   "source": [
    "New feature importances"
   ]
  },
  {
   "cell_type": "code",
   "execution_count": 376,
   "metadata": {},
   "outputs": [
    {
     "name": "stdout",
     "output_type": "stream",
     "text": [
      "TOTAL_WORKERS 0.0238682174148\n",
      "NEW_EMPLOYMENT 0.0243930430717\n",
      "CONTINUED_EMPLOYMENT 0.017338954502\n",
      "CHANGE_PREVIOUS_EMPLOYMENT 0.00991412838277\n",
      "CHANGE_EMPLOYER 0.0141667191687\n",
      "AMENDED_PETITION 0.0178340152993\n",
      "PREVAILING_WAGE 0.427052109325\n",
      "WAGE_RATE_OF_PAY_FROM 0.379577532405\n",
      "PW_SOURCE_OES 0.0148617269819\n",
      "PW_SOURCE_Other 0.0118467916207\n",
      "WAGE_RATE_OF_PAY_TO_N 0.00570188419731\n",
      "WAGE_RATE_OF_PAY_TO_Y 0.00565649763388\n",
      "H1B_DEPENDENT_N 0.0237675637492\n",
      "H1B_DEPENDENT_Y 0.0240208162481\n"
     ]
    }
   ],
   "source": [
    "for feat, score in zip(important_data.iloc[:, 1:].columns, rnd_for.feature_importances_):\n",
    "    print(feat, score)"
   ]
  },
  {
   "cell_type": "markdown",
   "metadata": {},
   "source": [
    "Strip more to test:"
   ]
  },
  {
   "cell_type": "code",
   "execution_count": 377,
   "metadata": {
    "collapsed": true
   },
   "outputs": [],
   "source": [
    "noisey_cols2 = ['CHANGE_EMPLOYER',\n",
    "                'PW_SOURCE_OES',\n",
    "                'PW_SOURCE_Other']"
   ]
  },
  {
   "cell_type": "code",
   "execution_count": 378,
   "metadata": {},
   "outputs": [
    {
     "data": {
      "text/plain": [
       "Index(['CASE_STATUS', 'TOTAL_WORKERS', 'NEW_EMPLOYMENT',\n",
       "       'CONTINUED_EMPLOYMENT', 'CHANGE_PREVIOUS_EMPLOYMENT',\n",
       "       'AMENDED_PETITION', 'PREVAILING_WAGE', 'WAGE_RATE_OF_PAY_FROM',\n",
       "       'WAGE_RATE_OF_PAY_TO_N', 'WAGE_RATE_OF_PAY_TO_Y', 'H1B_DEPENDENT_N',\n",
       "       'H1B_DEPENDENT_Y'],\n",
       "      dtype='object')"
      ]
     },
     "execution_count": 378,
     "metadata": {},
     "output_type": "execute_result"
    }
   ],
   "source": [
    "important_data2  = important_data.drop(noisey_cols2, axis = 1)\n",
    "important_data2.columns"
   ]
  },
  {
   "cell_type": "code",
   "execution_count": 379,
   "metadata": {},
   "outputs": [
    {
     "name": "stdout",
     "output_type": "stream",
     "text": [
      "(589822, 11)\n",
      "(589822,)\n"
     ]
    }
   ],
   "source": [
    "important_features2 = important_data2.iloc[:, 1:]\n",
    "important_target2 = important_data2.iloc[:, 0]\n",
    "print(important_features2.shape)\n",
    "print(important_target2.shape)"
   ]
  },
  {
   "cell_type": "code",
   "execution_count": 380,
   "metadata": {},
   "outputs": [
    {
     "name": "stdout",
     "output_type": "stream",
     "text": [
      "[(0, 7353), (1, 7353)]\n"
     ]
    }
   ],
   "source": [
    "X_resampled_imp2, y_resampled_imp2 = us.fit_sample(important_features2, important_target2)\n",
    "\n",
    "# print count of the new distribution of class labels following undersampling:\n",
    "print(sorted(Counter(y_resampled_imp2).items()))"
   ]
  },
  {
   "cell_type": "code",
   "execution_count": 381,
   "metadata": {
    "collapsed": true
   },
   "outputs": [],
   "source": [
    "# split the non-resampled data in test and training sets:\n",
    "X_train_resamp_imp2, X_test_resamp_imp2, y_train_resamp_imp2, y_test_resamp_imp2 = \\\n",
    "    train_test_split(X_resampled_imp2, y_resampled_imp2)"
   ]
  },
  {
   "cell_type": "code",
   "execution_count": 382,
   "metadata": {
    "collapsed": true
   },
   "outputs": [],
   "source": [
    "rnd_for.fit(X_train_resamp_imp2, y_train_resamp_imp2)\n",
    "rnd_for_preds_imp2 = rnd_for.predict(X_test_resamp_imp2)"
   ]
  },
  {
   "cell_type": "code",
   "execution_count": 383,
   "metadata": {},
   "outputs": [
    {
     "name": "stdout",
     "output_type": "stream",
     "text": [
      "0.679\n"
     ]
    }
   ],
   "source": [
    "print(round(accuracy_score(y_test_resamp_imp2,rnd_for_preds_imp2), 3))"
   ]
  },
  {
   "cell_type": "code",
   "execution_count": 384,
   "metadata": {},
   "outputs": [
    {
     "name": "stdout",
     "output_type": "stream",
     "text": [
      "             precision    recall  f1-score   support\n",
      "\n",
      "          0       0.69      0.66      0.67      1855\n",
      "          1       0.67      0.70      0.68      1822\n",
      "\n",
      "avg / total       0.68      0.68      0.68      3677\n",
      "\n"
     ]
    }
   ],
   "source": [
    "print(classification_report(y_test_resamp_imp2,rnd_for_preds_imp2))"
   ]
  },
  {
   "cell_type": "code",
   "execution_count": 61,
   "metadata": {},
   "outputs": [
    {
     "name": "stdout",
     "output_type": "stream",
     "text": [
      "TOTAL_WORKERS 0.0267956134897\n",
      "NEW_EMPLOYMENT 0.0236870908973\n",
      "CONTINUED_EMPLOYMENT 0.015917241765\n",
      "AMENDED_PETITION 0.0174064896627\n",
      "PREVAILING_WAGE 0.470693358284\n",
      "WAGE_RATE_OF_PAY_FROM 0.399220575893\n",
      "H1B_DEPENDENT_N 0.0239198178498\n",
      "H1B_DEPENDENT_Y 0.0223598121585\n"
     ]
    }
   ],
   "source": [
    "for feat, score in zip(important_data2.iloc[:, 1:].columns, rnd_for.feature_importances_):\n",
    "    print(feat, score)"
   ]
  },
  {
   "cell_type": "markdown",
   "metadata": {},
   "source": [
    "Trying with only 2 features"
   ]
  },
  {
   "cell_type": "code",
   "execution_count": 394,
   "metadata": {},
   "outputs": [],
   "source": [
    "important_data3 = cleaned_data[['CASE_STATUS', 'PREVAILING_WAGE', 'WAGE_RATE_OF_PAY_FROM']]"
   ]
  },
  {
   "cell_type": "code",
   "execution_count": 396,
   "metadata": {},
   "outputs": [
    {
     "name": "stdout",
     "output_type": "stream",
     "text": [
      "(589822, 2)\n",
      "(589822,)\n"
     ]
    }
   ],
   "source": [
    "important_features3 = important_data3.iloc[:, 1:]\n",
    "important_target3 = important_data3.iloc[:, 0]\n",
    "print(important_features3.shape)\n",
    "print(important_target3.shape)"
   ]
  },
  {
   "cell_type": "code",
   "execution_count": 398,
   "metadata": {},
   "outputs": [
    {
     "name": "stdout",
     "output_type": "stream",
     "text": [
      "[(0, 7353), (1, 7353)]\n"
     ]
    }
   ],
   "source": [
    "X_resampled_imp3, y_resampled_imp3 = us.fit_sample(important_features3, important_target3)\n",
    "\n",
    "# print count of the new distribution of class labels following undersampling:\n",
    "print(sorted(Counter(y_resampled_imp3).items()))"
   ]
  },
  {
   "cell_type": "code",
   "execution_count": 399,
   "metadata": {
    "collapsed": true
   },
   "outputs": [],
   "source": [
    "# split the non-resampled data in test and training sets:\n",
    "X_train_resamp_imp3, X_test_resamp_imp3, y_train_resamp_imp3, y_test_resamp_imp3 = \\\n",
    "    train_test_split(X_resampled_imp3, y_resampled_imp3)"
   ]
  },
  {
   "cell_type": "code",
   "execution_count": 401,
   "metadata": {
    "collapsed": true
   },
   "outputs": [],
   "source": [
    "rnd_for.fit(X_train_resamp_imp3, y_train_resamp_imp3)\n",
    "rnd_for_preds_imp3 = rnd_for.predict(X_test_resamp_imp3)"
   ]
  },
  {
   "cell_type": "code",
   "execution_count": 402,
   "metadata": {},
   "outputs": [
    {
     "name": "stdout",
     "output_type": "stream",
     "text": [
      "0.504\n"
     ]
    }
   ],
   "source": [
    "print(round(accuracy_score(y_test_resamp_imp2,rnd_for_preds_imp3), 3))"
   ]
  },
  {
   "cell_type": "code",
   "execution_count": null,
   "metadata": {
    "collapsed": true
   },
   "outputs": [],
   "source": []
  },
  {
   "cell_type": "code",
   "execution_count": null,
   "metadata": {
    "collapsed": true
   },
   "outputs": [],
   "source": []
  },
  {
   "cell_type": "code",
   "execution_count": null,
   "metadata": {
    "collapsed": true
   },
   "outputs": [],
   "source": []
  },
  {
   "cell_type": "markdown",
   "metadata": {},
   "source": [
    "### Extremely Randomized Trees\n"
   ]
  },
  {
   "cell_type": "markdown",
   "metadata": {},
   "source": [
    "Not only randomizing feature space to search for optimal split, also randomizing split threshold. All explained in my write-up. "
   ]
  },
  {
   "cell_type": "code",
   "execution_count": 248,
   "metadata": {
    "collapsed": true
   },
   "outputs": [],
   "source": [
    "from sklearn.ensemble import ExtraTreesClassifier"
   ]
  },
  {
   "cell_type": "code",
   "execution_count": 252,
   "metadata": {
    "collapsed": true
   },
   "outputs": [],
   "source": [
    "extra_rand = ExtraTreesClassifier(\n",
    "    n_estimators=200, max_leaf_nodes=None)"
   ]
  },
  {
   "cell_type": "code",
   "execution_count": 253,
   "metadata": {
    "collapsed": true
   },
   "outputs": [],
   "source": [
    "extra_rand.fit(X_train_resamp, y_train_resamp)\n",
    "extra_rand_preds = extra_rand.predict(X_test_resamp)"
   ]
  },
  {
   "cell_type": "code",
   "execution_count": 254,
   "metadata": {},
   "outputs": [
    {
     "name": "stdout",
     "output_type": "stream",
     "text": [
      "0.693\n"
     ]
    }
   ],
   "source": [
    "print(round(accuracy_score(y_test_resamp,extra_rand_preds), 3))"
   ]
  },
  {
   "cell_type": "markdown",
   "metadata": {},
   "source": [
    "On subset:"
   ]
  },
  {
   "cell_type": "code",
   "execution_count": 288,
   "metadata": {},
   "outputs": [
    {
     "name": "stdout",
     "output_type": "stream",
     "text": [
      "0.686\n"
     ]
    }
   ],
   "source": [
    "extra_rand.fit(X_train_resamp_imp, y_train_resamp_imp)\n",
    "extra_rand_preds_imp = ada_b.predict(X_test_resamp_imp)\n",
    "print(round(accuracy_score(y_test_resamp_imp,extra_rand_preds_imp), 3))"
   ]
  },
  {
   "cell_type": "code",
   "execution_count": null,
   "metadata": {
    "collapsed": true
   },
   "outputs": [],
   "source": []
  },
  {
   "cell_type": "code",
   "execution_count": null,
   "metadata": {
    "collapsed": true
   },
   "outputs": [],
   "source": []
  },
  {
   "cell_type": "markdown",
   "metadata": {},
   "source": [
    "**Equivalent bagged model - with bootstrapped sampling and feature selection**"
   ]
  },
  {
   "cell_type": "code",
   "execution_count": 281,
   "metadata": {
    "collapsed": true
   },
   "outputs": [],
   "source": [
    "extra_rand_bag = BaggingClassifier(\n",
    "    DecisionTreeClassifier(splitter=\"random\"),\n",
    "    n_estimators = 500, max_samples = 1.0, bootstrap = True, bootstrap_features= True,\n",
    ")"
   ]
  },
  {
   "cell_type": "code",
   "execution_count": 282,
   "metadata": {},
   "outputs": [],
   "source": [
    "extra_rand_bag.fit(X_train_resamp, y_train_resamp)\n",
    "extra_rand_bag_preds = extra_rand_bag.predict(X_test_resamp)"
   ]
  },
  {
   "cell_type": "code",
   "execution_count": 283,
   "metadata": {},
   "outputs": [
    {
     "name": "stdout",
     "output_type": "stream",
     "text": [
      "0.698\n"
     ]
    }
   ],
   "source": [
    "print(round(accuracy_score(y_test_resamp,extra_rand_bag_preds), 3))"
   ]
  },
  {
   "cell_type": "code",
   "execution_count": 286,
   "metadata": {},
   "outputs": [
    {
     "name": "stdout",
     "output_type": "stream",
     "text": [
      "0.686\n"
     ]
    }
   ],
   "source": [
    "extra_rand_bag.fit(X_train_resamp_imp, y_train_resamp_imp)\n",
    "extra_rand_bag_preds_imp = ada_b.predict(X_test_resamp_imp)\n",
    "print(round(accuracy_score(y_test_resamp_imp,extra_rand_bag_preds_imp), 3))"
   ]
  },
  {
   "cell_type": "code",
   "execution_count": null,
   "metadata": {
    "collapsed": true
   },
   "outputs": [],
   "source": []
  },
  {
   "cell_type": "code",
   "execution_count": null,
   "metadata": {
    "collapsed": true
   },
   "outputs": [],
   "source": []
  },
  {
   "cell_type": "markdown",
   "metadata": {},
   "source": [
    "### Boosting"
   ]
  },
  {
   "cell_type": "markdown",
   "metadata": {},
   "source": [
    "**Ada Boost (Adaptive Boosting)**"
   ]
  },
  {
   "cell_type": "code",
   "execution_count": 73,
   "metadata": {},
   "outputs": [],
   "source": [
    "from sklearn.ensemble import AdaBoostClassifier"
   ]
  },
  {
   "cell_type": "markdown",
   "metadata": {},
   "source": [
    "Not quite using decision stumps (max dept = 2)."
   ]
  },
  {
   "cell_type": "code",
   "execution_count": 146,
   "metadata": {
    "collapsed": true
   },
   "outputs": [],
   "source": [
    "ada_b = AdaBoostClassifier(\n",
    "    DecisionTreeClassifier(max_depth = 2), n_estimators = 120,\n",
    "    algorithm = \"SAMME.R\", learning_rate = 0.5)"
   ]
  },
  {
   "cell_type": "code",
   "execution_count": 147,
   "metadata": {},
   "outputs": [],
   "source": [
    "ada_b.fit(X_train_resamp, y_train_resamp)\n",
    "ada_b_preds = ada_b.predict(X_test_resamp)"
   ]
  },
  {
   "cell_type": "code",
   "execution_count": 148,
   "metadata": {},
   "outputs": [
    {
     "name": "stdout",
     "output_type": "stream",
     "text": [
      "0.705\n"
     ]
    }
   ],
   "source": [
    "print(round(accuracy_score(y_test_resamp,ada_b_preds), 3))"
   ]
  },
  {
   "cell_type": "code",
   "execution_count": 87,
   "metadata": {},
   "outputs": [
    {
     "name": "stdout",
     "output_type": "stream",
     "text": [
      "             precision    recall  f1-score   support\n",
      "\n",
      "          0       0.68      0.65      0.67      1825\n",
      "          1       0.67      0.70      0.69      1852\n",
      "\n",
      "avg / total       0.68      0.68      0.68      3677\n",
      "\n"
     ]
    }
   ],
   "source": [
    "print(classification_report(y_test_resamp,ada_b_preds))"
   ]
  },
  {
   "cell_type": "markdown",
   "metadata": {},
   "source": [
    "On subset data."
   ]
  },
  {
   "cell_type": "code",
   "execution_count": 136,
   "metadata": {},
   "outputs": [
    {
     "name": "stdout",
     "output_type": "stream",
     "text": [
      "0.686\n"
     ]
    }
   ],
   "source": [
    "ada_b.fit(X_train_resamp_imp, y_train_resamp_imp)\n",
    "ada_b_preds_imp = ada_b.predict(X_test_resamp_imp)\n",
    "print(round(accuracy_score(y_test_resamp_imp,ada_b_preds_imp), 3))"
   ]
  },
  {
   "cell_type": "code",
   "execution_count": null,
   "metadata": {
    "collapsed": true
   },
   "outputs": [],
   "source": []
  },
  {
   "cell_type": "markdown",
   "metadata": {},
   "source": [
    "**Gradient Boosting**"
   ]
  },
  {
   "cell_type": "code",
   "execution_count": 152,
   "metadata": {},
   "outputs": [],
   "source": [
    "from sklearn.ensemble import GradientBoostingClassifier"
   ]
  },
  {
   "cell_type": "code",
   "execution_count": 243,
   "metadata": {
    "collapsed": true
   },
   "outputs": [],
   "source": [
    "GBcl = GradientBoostingClassifier(\n",
    "        max_depth = 4, n_estimators = 150, learning_rate = 0.3)"
   ]
  },
  {
   "cell_type": "code",
   "execution_count": 244,
   "metadata": {
    "collapsed": true
   },
   "outputs": [],
   "source": [
    "GBcl.fit(X_train_resamp, y_train_resamp)\n",
    "GBcl_preds = GBcl.predict(X_test_resamp)"
   ]
  },
  {
   "cell_type": "code",
   "execution_count": 245,
   "metadata": {},
   "outputs": [
    {
     "name": "stdout",
     "output_type": "stream",
     "text": [
      "0.724\n"
     ]
    }
   ],
   "source": [
    "print(round(accuracy_score(y_test_resamp,GBcl_preds), 3))"
   ]
  },
  {
   "cell_type": "markdown",
   "metadata": {},
   "source": [
    "Definite improvement, note max depth here. "
   ]
  },
  {
   "cell_type": "markdown",
   "metadata": {},
   "source": [
    "On subset:"
   ]
  },
  {
   "cell_type": "code",
   "execution_count": 246,
   "metadata": {
    "collapsed": true
   },
   "outputs": [],
   "source": [
    "GBcl.fit(X_train_resamp_imp, y_train_resamp_imp)\n",
    "GBcl_preds_imp = GBcl.predict(X_test_resamp_imp)"
   ]
  },
  {
   "cell_type": "code",
   "execution_count": 247,
   "metadata": {},
   "outputs": [
    {
     "name": "stdout",
     "output_type": "stream",
     "text": [
      "0.705\n"
     ]
    }
   ],
   "source": [
    "print(round(accuracy_score(y_test_resamp_imp,GBcl_preds_imp), 3))"
   ]
  },
  {
   "cell_type": "markdown",
   "metadata": {},
   "source": [
    "Significant drop as I would expect. "
   ]
  },
  {
   "cell_type": "code",
   "execution_count": null,
   "metadata": {
    "collapsed": true
   },
   "outputs": [],
   "source": []
  },
  {
   "cell_type": "code",
   "execution_count": null,
   "metadata": {
    "collapsed": true
   },
   "outputs": [],
   "source": []
  },
  {
   "cell_type": "code",
   "execution_count": null,
   "metadata": {
    "collapsed": true
   },
   "outputs": [],
   "source": []
  },
  {
   "cell_type": "code",
   "execution_count": null,
   "metadata": {
    "collapsed": true
   },
   "outputs": [],
   "source": []
  },
  {
   "cell_type": "markdown",
   "metadata": {},
   "source": [
    "### Fine-Tune Parameters"
   ]
  },
  {
   "cell_type": "markdown",
   "metadata": {},
   "source": [
    "### Starting with grid search"
   ]
  },
  {
   "cell_type": "markdown",
   "metadata": {},
   "source": [
    "**Random Forest tuning**"
   ]
  },
  {
   "cell_type": "code",
   "execution_count": 289,
   "metadata": {},
   "outputs": [],
   "source": [
    "from sklearn.model_selection import GridSearchCV"
   ]
  },
  {
   "cell_type": "code",
   "execution_count": 301,
   "metadata": {},
   "outputs": [],
   "source": [
    "param_grid = [\n",
    "    {'n_estimators': [3, 10, 30], 'max_features': [2,4,6,8,10,12,14,16,18,20,22]},\n",
    "    {'bootstrap': [False], 'n_estimators': [3, 10, 30], 'max_features': [2,4,6,8,10,12,14,16,18,20,22]},\n",
    "]"
   ]
  },
  {
   "cell_type": "code",
   "execution_count": 302,
   "metadata": {
    "collapsed": true
   },
   "outputs": [],
   "source": [
    "rnd_for = RandomForestClassifier()"
   ]
  },
  {
   "cell_type": "code",
   "execution_count": 303,
   "metadata": {},
   "outputs": [],
   "source": [
    "grid_search = GridSearchCV(rnd_for, param_grid, cv=3, \n",
    "                          scoring = 'accuracy', n_jobs = 2)"
   ]
  },
  {
   "cell_type": "code",
   "execution_count": 304,
   "metadata": {},
   "outputs": [
    {
     "data": {
      "text/plain": [
       "GridSearchCV(cv=3, error_score='raise',\n",
       "       estimator=RandomForestClassifier(bootstrap=True, class_weight=None, criterion='gini',\n",
       "            max_depth=None, max_features='auto', max_leaf_nodes=None,\n",
       "            min_impurity_decrease=0.0, min_impurity_split=None,\n",
       "            min_samples_leaf=1, min_samples_split=2,\n",
       "            min_weight_fraction_leaf=0.0, n_estimators=10, n_jobs=1,\n",
       "            oob_score=False, random_state=None, verbose=0,\n",
       "            warm_start=False),\n",
       "       fit_params=None, iid=True, n_jobs=1,\n",
       "       param_grid=[{'n_estimators': [3, 10, 30], 'max_features': [2, 4, 6, 8, 10, 12, 14, 16, 18, 20, 22]}, {'bootstrap': [False], 'n_estimators': [3, 10, 30], 'max_features': [2, 4, 6, 8, 10, 12, 14, 16, 18, 20, 22]}],\n",
       "       pre_dispatch='2*n_jobs', refit=True, return_train_score='warn',\n",
       "       scoring='accuracy', verbose=0)"
      ]
     },
     "execution_count": 304,
     "metadata": {},
     "output_type": "execute_result"
    }
   ],
   "source": [
    "grid_search.fit(X_train_resamp, y_train_resamp)"
   ]
  },
  {
   "cell_type": "code",
   "execution_count": 305,
   "metadata": {},
   "outputs": [
    {
     "data": {
      "text/plain": [
       "{'max_features': 22, 'n_estimators': 30}"
      ]
     },
     "execution_count": 305,
     "metadata": {},
     "output_type": "execute_result"
    }
   ],
   "source": [
    "grid_search.best_params_"
   ]
  },
  {
   "cell_type": "code",
   "execution_count": 309,
   "metadata": {},
   "outputs": [
    {
     "data": {
      "text/plain": [
       "RandomForestClassifier(bootstrap=True, class_weight=None, criterion='gini',\n",
       "            max_depth=None, max_features=22, max_leaf_nodes=None,\n",
       "            min_impurity_decrease=0.0, min_impurity_split=None,\n",
       "            min_samples_leaf=1, min_samples_split=2,\n",
       "            min_weight_fraction_leaf=0.0, n_estimators=30, n_jobs=1,\n",
       "            oob_score=False, random_state=None, verbose=0,\n",
       "            warm_start=False)"
      ]
     },
     "execution_count": 309,
     "metadata": {},
     "output_type": "execute_result"
    }
   ],
   "source": [
    "grid_search.best_estimator_"
   ]
  },
  {
   "cell_type": "code",
   "execution_count": 306,
   "metadata": {
    "collapsed": true
   },
   "outputs": [],
   "source": [
    "rnd_for = RandomForestClassifier(\n",
    "    n_estimators=30, max_features =  22)"
   ]
  },
  {
   "cell_type": "code",
   "execution_count": 307,
   "metadata": {
    "collapsed": true
   },
   "outputs": [],
   "source": [
    "rnd_for.fit(X_train_resamp, y_train_resamp)\n",
    "rnd_for_preds = rnd_for.predict(X_test_resamp)"
   ]
  },
  {
   "cell_type": "code",
   "execution_count": 320,
   "metadata": {},
   "outputs": [
    {
     "name": "stdout",
     "output_type": "stream",
     "text": [
      "0.701\n"
     ]
    }
   ],
   "source": [
    "print(round(accuracy_score(y_test_resamp,rnd_for_preds), 3))"
   ]
  },
  {
   "cell_type": "markdown",
   "metadata": {},
   "source": [
    "**Round 2**"
   ]
  },
  {
   "cell_type": "code",
   "execution_count": 321,
   "metadata": {
    "collapsed": true
   },
   "outputs": [],
   "source": [
    "rnd_for = RandomForestClassifier()"
   ]
  },
  {
   "cell_type": "code",
   "execution_count": 331,
   "metadata": {
    "collapsed": true
   },
   "outputs": [],
   "source": [
    "param_grid = [\n",
    "    {'n_estimators': [30, 70, 100, 150, 200, 250, 300]},\n",
    "    {'bootstrap': [False], 'n_estimators': [30, 70, 100, 150, 200, 250, 300]},\n",
    "]"
   ]
  },
  {
   "cell_type": "code",
   "execution_count": 332,
   "metadata": {
    "collapsed": true
   },
   "outputs": [],
   "source": [
    "grid_search = GridSearchCV(rnd_for, param_grid, cv=3, \n",
    "                          scoring = 'accuracy')"
   ]
  },
  {
   "cell_type": "code",
   "execution_count": 333,
   "metadata": {},
   "outputs": [
    {
     "data": {
      "text/plain": [
       "GridSearchCV(cv=3, error_score='raise',\n",
       "       estimator=RandomForestClassifier(bootstrap=True, class_weight=None, criterion='gini',\n",
       "            max_depth=None, max_features='auto', max_leaf_nodes=None,\n",
       "            min_impurity_decrease=0.0, min_impurity_split=None,\n",
       "            min_samples_leaf=1, min_samples_split=2,\n",
       "            min_weight_fraction_leaf=0.0, n_estimators=10, n_jobs=1,\n",
       "            oob_score=False, random_state=None, verbose=0,\n",
       "            warm_start=False),\n",
       "       fit_params=None, iid=True, n_jobs=1,\n",
       "       param_grid=[{'n_estimators': [30, 70, 100, 150, 200, 250, 300]}, {'bootstrap': [False], 'n_estimators': [30, 70, 100, 150, 200, 250, 300]}],\n",
       "       pre_dispatch='2*n_jobs', refit=True, return_train_score='warn',\n",
       "       scoring='accuracy', verbose=0)"
      ]
     },
     "execution_count": 333,
     "metadata": {},
     "output_type": "execute_result"
    }
   ],
   "source": [
    "grid_search.fit(X_train_resamp, y_train_resamp)"
   ]
  },
  {
   "cell_type": "code",
   "execution_count": 342,
   "metadata": {},
   "outputs": [
    {
     "data": {
      "text/plain": [
       "{'n_estimators': 250}"
      ]
     },
     "execution_count": 342,
     "metadata": {},
     "output_type": "execute_result"
    }
   ],
   "source": [
    "grid_search.best_params_"
   ]
  },
  {
   "cell_type": "code",
   "execution_count": 343,
   "metadata": {
    "collapsed": true
   },
   "outputs": [],
   "source": [
    "rnd_for = RandomForestClassifier(\n",
    "    n_estimators=250)"
   ]
  },
  {
   "cell_type": "code",
   "execution_count": 344,
   "metadata": {
    "collapsed": true
   },
   "outputs": [],
   "source": [
    "rnd_for.fit(X_train_resamp, y_train_resamp)\n",
    "rnd_for_preds = rnd_for.predict(X_test_resamp)"
   ]
  },
  {
   "cell_type": "code",
   "execution_count": 345,
   "metadata": {},
   "outputs": [
    {
     "name": "stdout",
     "output_type": "stream",
     "text": [
      "0.698\n"
     ]
    }
   ],
   "source": [
    "print(round(accuracy_score(y_test_resamp,rnd_for_preds), 3))"
   ]
  },
  {
   "cell_type": "code",
   "execution_count": 348,
   "metadata": {
    "collapsed": true
   },
   "outputs": [],
   "source": [
    "param_grid = [\n",
    "    {'n_estimators': [200, 215, 230, 245, 250, 265, 280, 295]},\n",
    "    {'bootstrap': [False], 'n_estimators': [200, 215, 230, 245, 250, 265, 280, 295]},\n",
    "]"
   ]
  },
  {
   "cell_type": "code",
   "execution_count": 349,
   "metadata": {
    "collapsed": true
   },
   "outputs": [],
   "source": [
    "grid_search = GridSearchCV(rnd_for, param_grid, cv=3, \n",
    "                          scoring = 'accuracy')"
   ]
  },
  {
   "cell_type": "code",
   "execution_count": 350,
   "metadata": {},
   "outputs": [
    {
     "data": {
      "text/plain": [
       "GridSearchCV(cv=3, error_score='raise',\n",
       "       estimator=RandomForestClassifier(bootstrap=True, class_weight=None, criterion='gini',\n",
       "            max_depth=None, max_features='auto', max_leaf_nodes=None,\n",
       "            min_impurity_decrease=0.0, min_impurity_split=None,\n",
       "            min_samples_leaf=1, min_samples_split=2,\n",
       "            min_weight_fraction_leaf=0.0, n_estimators=250, n_jobs=1,\n",
       "            oob_score=False, random_state=None, verbose=0,\n",
       "            warm_start=False),\n",
       "       fit_params=None, iid=True, n_jobs=1,\n",
       "       param_grid=[{'n_estimators': [200, 215, 230, 245, 250, 265, 280, 295]}, {'bootstrap': [False], 'n_estimators': [200, 215, 230, 245, 250, 265, 280, 295]}],\n",
       "       pre_dispatch='2*n_jobs', refit=True, return_train_score='warn',\n",
       "       scoring='accuracy', verbose=0)"
      ]
     },
     "execution_count": 350,
     "metadata": {},
     "output_type": "execute_result"
    }
   ],
   "source": [
    "grid_search.fit(X_train_resamp, y_train_resamp)"
   ]
  },
  {
   "cell_type": "code",
   "execution_count": 351,
   "metadata": {},
   "outputs": [
    {
     "data": {
      "text/plain": [
       "{'n_estimators': 200}"
      ]
     },
     "execution_count": 351,
     "metadata": {},
     "output_type": "execute_result"
    }
   ],
   "source": [
    "grid_search.best_params_"
   ]
  },
  {
   "cell_type": "code",
   "execution_count": 403,
   "metadata": {
    "collapsed": true
   },
   "outputs": [],
   "source": [
    "rnd_for = RandomForestClassifier(\n",
    "    n_estimators=200)"
   ]
  },
  {
   "cell_type": "code",
   "execution_count": 404,
   "metadata": {
    "collapsed": true
   },
   "outputs": [],
   "source": [
    "rnd_for.fit(X_train_resamp, y_train_resamp)\n",
    "rnd_for_preds = rnd_for.predict(X_test_resamp)"
   ]
  },
  {
   "cell_type": "code",
   "execution_count": 405,
   "metadata": {},
   "outputs": [
    {
     "name": "stdout",
     "output_type": "stream",
     "text": [
      "0.694\n"
     ]
    }
   ],
   "source": [
    "print(round(accuracy_score(y_test_resamp,rnd_for_preds), 3))"
   ]
  },
  {
   "cell_type": "code",
   "execution_count": null,
   "metadata": {
    "collapsed": true
   },
   "outputs": [],
   "source": []
  },
  {
   "cell_type": "code",
   "execution_count": null,
   "metadata": {
    "collapsed": true
   },
   "outputs": [],
   "source": []
  },
  {
   "cell_type": "code",
   "execution_count": null,
   "metadata": {
    "collapsed": true
   },
   "outputs": [],
   "source": []
  },
  {
   "cell_type": "code",
   "execution_count": 438,
   "metadata": {},
   "outputs": [],
   "source": [
    "from sklearn.model_selection import GridSearchCV\n",
    "# Create the parameter grid based on the results of random search \n",
    "param_grid = {\n",
    "    'bootstrap': [True],\n",
    "    'max_depth': [80, 90, 100, 110],\n",
    "    'max_features': [2, 3],\n",
    "    'min_samples_leaf': [3, 4, 5],\n",
    "    'min_samples_split': [8, 10, 12],\n",
    "    'n_estimators': [100, 200, 300, 1000]\n",
    "}\n",
    "# Create a based model\n",
    "rf = RandomForestClassifier()\n",
    "# Instantiate the grid search model\n",
    "grid_search = GridSearchCV(estimator = rf, param_grid = param_grid, \n",
    "                          cv = 3, n_jobs = 2, verbose = 2)"
   ]
  },
  {
   "cell_type": "code",
   "execution_count": 439,
   "metadata": {},
   "outputs": [
    {
     "name": "stdout",
     "output_type": "stream",
     "text": [
      "Fitting 3 folds for each of 288 candidates, totalling 864 fits\n"
     ]
    },
    {
     "name": "stderr",
     "output_type": "stream",
     "text": [
      "[Parallel(n_jobs=2)]: Done  37 tasks      | elapsed:   32.4s\n",
      "[Parallel(n_jobs=2)]: Done 158 tasks      | elapsed:  2.4min\n",
      "[Parallel(n_jobs=2)]: Done 361 tasks      | elapsed:  5.4min\n",
      "[Parallel(n_jobs=2)]: Done 644 tasks      | elapsed:  9.6min\n",
      "[Parallel(n_jobs=2)]: Done 864 out of 864 | elapsed: 12.9min finished\n"
     ]
    },
    {
     "data": {
      "text/plain": [
       "GridSearchCV(cv=3, error_score='raise',\n",
       "       estimator=RandomForestClassifier(bootstrap=True, class_weight=None, criterion='gini',\n",
       "            max_depth=None, max_features='auto', max_leaf_nodes=None,\n",
       "            min_impurity_decrease=0.0, min_impurity_split=None,\n",
       "            min_samples_leaf=1, min_samples_split=2,\n",
       "            min_weight_fraction_leaf=0.0, n_estimators=10, n_jobs=1,\n",
       "            oob_score=False, random_state=None, verbose=0,\n",
       "            warm_start=False),\n",
       "       fit_params=None, iid=True, n_jobs=2,\n",
       "       param_grid={'bootstrap': [True], 'max_depth': [80, 90, 100, 110], 'max_features': [2, 3], 'min_samples_leaf': [3, 4, 5], 'min_samples_split': [8, 10, 12], 'n_estimators': [100, 200, 300, 1000]},\n",
       "       pre_dispatch='2*n_jobs', refit=True, return_train_score='warn',\n",
       "       scoring=None, verbose=2)"
      ]
     },
     "execution_count": 439,
     "metadata": {},
     "output_type": "execute_result"
    }
   ],
   "source": [
    "# Fit the grid search to the data\n",
    "grid_search.fit(X_train_resamp, y_train_resamp)"
   ]
  },
  {
   "cell_type": "code",
   "execution_count": 440,
   "metadata": {},
   "outputs": [
    {
     "data": {
      "text/plain": [
       "{'bootstrap': True,\n",
       " 'max_depth': 110,\n",
       " 'max_features': 3,\n",
       " 'min_samples_leaf': 3,\n",
       " 'min_samples_split': 10,\n",
       " 'n_estimators': 100}"
      ]
     },
     "execution_count": 440,
     "metadata": {},
     "output_type": "execute_result"
    }
   ],
   "source": [
    "grid_search.best_params_"
   ]
  },
  {
   "cell_type": "markdown",
   "metadata": {},
   "source": [
    "\n",
    "{'bootstrap': True,  \n",
    " 'max_depth': 110,  \n",
    " 'max_features': 3,  \n",
    " 'min_samples_leaf': 3,  \n",
    " 'min_samples_split': 10,  \n",
    " 'n_estimators': 100}  \n"
   ]
  },
  {
   "cell_type": "code",
   "execution_count": 442,
   "metadata": {
    "collapsed": true
   },
   "outputs": [],
   "source": [
    "rnd_for = RandomForestClassifier(\n",
    "    max_depth = 110,\n",
    "    max_features = 3,\n",
    "    min_samples_leaf = 3,\n",
    "    min_samples_split = 10,\n",
    "    n_estimators= 100)"
   ]
  },
  {
   "cell_type": "code",
   "execution_count": 443,
   "metadata": {
    "collapsed": true
   },
   "outputs": [],
   "source": [
    "rnd_for.fit(X_train_resamp, y_train_resamp)\n",
    "rnd_for_preds = rnd_for.predict(X_test_resamp)"
   ]
  },
  {
   "cell_type": "code",
   "execution_count": 444,
   "metadata": {},
   "outputs": [
    {
     "name": "stdout",
     "output_type": "stream",
     "text": [
      "0.696\n"
     ]
    }
   ],
   "source": [
    "print(round(accuracy_score(y_test_resamp,rnd_for_preds), 3))"
   ]
  },
  {
   "cell_type": "code",
   "execution_count": null,
   "metadata": {
    "collapsed": true
   },
   "outputs": [],
   "source": []
  },
  {
   "cell_type": "code",
   "execution_count": null,
   "metadata": {
    "collapsed": true
   },
   "outputs": [],
   "source": [
    "best_grid = grid_search.best_estimator_\n",
    "grid_accuracy = evaluate(best_grid, test_features, test_labels)\n",
    "Model Performance\n",
    "Average Error: 3.6561 degrees.\n",
    "Accuracy = 93.83%.\n",
    "print('Improvement of {:0.2f}%.'.format( 100 * (grid_accuracy - base_accuracy) / base_accuracy))"
   ]
  },
  {
   "cell_type": "code",
   "execution_count": null,
   "metadata": {
    "collapsed": true
   },
   "outputs": [],
   "source": []
  },
  {
   "cell_type": "code",
   "execution_count": null,
   "metadata": {
    "collapsed": true
   },
   "outputs": [],
   "source": []
  },
  {
   "cell_type": "code",
   "execution_count": null,
   "metadata": {
    "collapsed": true
   },
   "outputs": [],
   "source": []
  },
  {
   "cell_type": "markdown",
   "metadata": {},
   "source": [
    "### Randomized search"
   ]
  },
  {
   "cell_type": "markdown",
   "metadata": {},
   "source": [
    "n_estimators = number of trees in the forest   \n",
    "max_features = max number of features considered for splitting a node  \n",
    "max_depth = max number of levels in each decision tree  \n",
    "min_samples_split = min number of data points placed in a node before the node is split  \n",
    "min_samples_leaf = min number of data points allowed in a leaf node  \n",
    "bootstrap = method for sampling data points (with or without replacement)  "
   ]
  },
  {
   "cell_type": "code",
   "execution_count": 408,
   "metadata": {},
   "outputs": [],
   "source": [
    "from sklearn.model_selection import RandomizedSearchCV"
   ]
  },
  {
   "cell_type": "code",
   "execution_count": 421,
   "metadata": {},
   "outputs": [
    {
     "name": "stdout",
     "output_type": "stream",
     "text": [
      "{'n_estimators': [140, 346, 553, 760, 966, 1173, 1380, 1586, 1793, 2000], 'max_features': ['auto', 'sqrt'], 'max_depth': [2, 100], 'min_samples_split': [2, 4, 5, 6, 7, 10], 'min_samples_leaf': [1, 2, 3, 4], 'bootstrap': [True, False]}\n"
     ]
    },
    {
     "data": {
      "text/plain": [
       "{'bootstrap': [True, False],\n",
       " 'max_depth': [10, 20, 30, 40, 50, 60, 70, 80, 90, 100, None],\n",
       " 'max_features': ['auto', 'sqrt'],\n",
       " 'min_samples_leaf': [1, 2, 4],\n",
       " 'min_samples_split': [2, 5, 10],\n",
       " 'n_estimators': [200, 400, 600, 800, 1000, 1200, 1400, 1600, 1800, 2000]}"
      ]
     },
     "execution_count": 421,
     "metadata": {},
     "output_type": "execute_result"
    }
   ],
   "source": [
    "# Number of trees in random forest\n",
    "n_estimators = [int(x) for x in np.linspace(start = 140, stop = 2000, num = 10)]\n",
    "# Number of features to consider at every split\n",
    "max_features = ['auto', 'sqrt']\n",
    "# Maximum number of levels in tree\n",
    "max_depth = [int(x) for x in np.linspace(2, 100, num = 2)]\n",
    "#max_depth.append(None)\n",
    "# Minimum number of samples required to split a node\n",
    "min_samples_split = [2, 4, 5, 6, 7, 10]\n",
    "# Minimum number of samples required at each leaf node\n",
    "min_samples_leaf = [1, 2, 3, 4]\n",
    "# Method of selecting samples for training each tree\n",
    "bootstrap = [True, False]\n",
    "# Create the random grid\n",
    "random_grid = {'n_estimators': n_estimators,\n",
    "               'max_features': max_features,\n",
    "               'max_depth': max_depth,\n",
    "               'min_samples_split': min_samples_split,\n",
    "               'min_samples_leaf': min_samples_leaf,\n",
    "               'bootstrap': bootstrap}"
   ]
  },
  {
   "cell_type": "code",
   "execution_count": 422,
   "metadata": {},
   "outputs": [
    {
     "name": "stdout",
     "output_type": "stream",
     "text": [
      "Fitting 3 folds for each of 100 candidates, totalling 300 fits\n"
     ]
    },
    {
     "name": "stderr",
     "output_type": "stream",
     "text": [
      "[Parallel(n_jobs=2)]: Done  37 tasks      | elapsed:  1.8min\n",
      "[Parallel(n_jobs=2)]: Done 158 tasks      | elapsed:  8.1min\n",
      "[Parallel(n_jobs=2)]: Done 300 out of 300 | elapsed: 17.3min finished\n"
     ]
    },
    {
     "data": {
      "text/plain": [
       "RandomizedSearchCV(cv=3, error_score='raise',\n",
       "          estimator=RandomForestClassifier(bootstrap=True, class_weight=None, criterion='gini',\n",
       "            max_depth=None, max_features='auto', max_leaf_nodes=None,\n",
       "            min_impurity_decrease=0.0, min_impurity_split=None,\n",
       "            min_samples_leaf=1, min_samples_split=2,\n",
       "            min_weight_fraction_leaf=0.0, n_estimators=10, n_jobs=1,\n",
       "            oob_score=False, random_state=None, verbose=0,\n",
       "            warm_start=False),\n",
       "          fit_params=None, iid=True, n_iter=100, n_jobs=2,\n",
       "          param_distributions={'n_estimators': [140, 346, 553, 760, 966, 1173, 1380, 1586, 1793, 2000], 'max_features': ['auto', 'sqrt'], 'max_depth': [2, 100], 'min_samples_split': [2, 4, 5, 6, 7, 10], 'min_samples_leaf': [1, 2, 3, 4], 'bootstrap': [True, False]},\n",
       "          pre_dispatch='2*n_jobs', random_state=42, refit=True,\n",
       "          return_train_score='warn', scoring=None, verbose=2)"
      ]
     },
     "execution_count": 422,
     "metadata": {},
     "output_type": "execute_result"
    }
   ],
   "source": [
    "rand_for = RandomForestClassifier()\n",
    "# Random search of parameters, using 3 fold cross validation, \n",
    "# search across 100 different combinations, and use all available cores\n",
    "rf_random = RandomizedSearchCV(estimator = rand_for, param_distributions = random_grid, \n",
    "                               n_iter = 100, cv = 3, verbose=2, random_state=42, n_jobs = 2)\n",
    "# Fit the random search model\n",
    "rf_random.fit(X_train_resamp, y_train_resamp)"
   ]
  },
  {
   "cell_type": "code",
   "execution_count": null,
   "metadata": {
    "collapsed": true
   },
   "outputs": [],
   "source": [
    "grid_search = GridSearchCV(rnd_for, param_grid, cv=3, \n",
    "                          scoring = 'accuracy')"
   ]
  },
  {
   "cell_type": "code",
   "execution_count": 423,
   "metadata": {},
   "outputs": [
    {
     "data": {
      "text/plain": [
       "{'bootstrap': True,\n",
       " 'max_depth': 100,\n",
       " 'max_features': 'auto',\n",
       " 'min_samples_leaf': 2,\n",
       " 'min_samples_split': 4,\n",
       " 'n_estimators': 966}"
      ]
     },
     "execution_count": 423,
     "metadata": {},
     "output_type": "execute_result"
    }
   ],
   "source": [
    "rf_random.best_params_"
   ]
  },
  {
   "cell_type": "markdown",
   "metadata": {},
   "source": [
    "**First round:**\n",
    "\n",
    "{'bootstrap': True,  \n",
    " 'max_depth': None,  \n",
    " 'max_features': 'auto',  \n",
    " 'min_samples_leaf': 2,  \n",
    " 'min_samples_split': 5,  \n",
    " 'n_estimators': 760}  \n",
    " \n",
    " \n",
    " **Second round:**  \n",
    " \n",
    " {'bootstrap': True,\n",
    " 'max_depth': 100,\n",
    " 'max_features': 'auto',\n",
    " 'min_samples_leaf': 2,\n",
    " 'min_samples_split': 4,\n",
    " 'n_estimators': 966}\n",
    " "
   ]
  },
  {
   "cell_type": "code",
   "execution_count": 432,
   "metadata": {
    "collapsed": true
   },
   "outputs": [],
   "source": [
    "rand_for = RandomForestClassifier(bootstrap =True,\n",
    "            max_depth = None,\n",
    "            max_features = 'auto',\n",
    "            min_samples_leaf = 2,\n",
    "            min_samples_split = 4,\n",
    "            n_estimators = 966)"
   ]
  },
  {
   "cell_type": "code",
   "execution_count": 433,
   "metadata": {},
   "outputs": [
    {
     "data": {
      "text/plain": [
       "RandomForestClassifier(bootstrap=True, class_weight=None, criterion='gini',\n",
       "            max_depth=None, max_features='auto', max_leaf_nodes=None,\n",
       "            min_impurity_decrease=0.0, min_impurity_split=None,\n",
       "            min_samples_leaf=2, min_samples_split=4,\n",
       "            min_weight_fraction_leaf=0.0, n_estimators=966, n_jobs=1,\n",
       "            oob_score=False, random_state=None, verbose=0,\n",
       "            warm_start=False)"
      ]
     },
     "execution_count": 433,
     "metadata": {},
     "output_type": "execute_result"
    }
   ],
   "source": [
    "rand_for.fit(X_train_resamp, y_train_resamp)"
   ]
  },
  {
   "cell_type": "code",
   "execution_count": 434,
   "metadata": {
    "collapsed": true
   },
   "outputs": [],
   "source": [
    "rnd_for_preds = rnd_for.predict(X_test_resamp)"
   ]
  },
  {
   "cell_type": "code",
   "execution_count": 435,
   "metadata": {},
   "outputs": [
    {
     "name": "stdout",
     "output_type": "stream",
     "text": [
      "0.694\n"
     ]
    }
   ],
   "source": [
    "print(round(accuracy_score(y_test_resamp,rnd_for_preds), 3))"
   ]
  },
  {
   "cell_type": "code",
   "execution_count": null,
   "metadata": {
    "collapsed": true
   },
   "outputs": [],
   "source": []
  },
  {
   "cell_type": "code",
   "execution_count": null,
   "metadata": {
    "collapsed": true
   },
   "outputs": [],
   "source": []
  },
  {
   "cell_type": "code",
   "execution_count": null,
   "metadata": {
    "collapsed": true
   },
   "outputs": [],
   "source": []
  },
  {
   "cell_type": "code",
   "execution_count": null,
   "metadata": {
    "collapsed": true
   },
   "outputs": [],
   "source": []
  },
  {
   "cell_type": "code",
   "execution_count": null,
   "metadata": {
    "collapsed": true
   },
   "outputs": [],
   "source": []
  },
  {
   "cell_type": "markdown",
   "metadata": {},
   "source": [
    "Compare to base model"
   ]
  },
  {
   "cell_type": "code",
   "execution_count": null,
   "metadata": {
    "collapsed": true
   },
   "outputs": [],
   "source": [
    "def evaluate(model, test_features, test_labels):\n",
    "    predictions = model.predict(test_features)\n",
    "    errors = abs(predictions - test_labels)\n",
    "    mape = 100 * np.mean(errors / test_labels)\n",
    "    accuracy = 100 - mape\n",
    "    print('Model Performance')\n",
    "    print('Average Error: {:0.4f} degrees.'.format(np.mean(errors)))\n",
    "    print('Accuracy = {:0.2f}%.'.format(accuracy))\n",
    "    \n",
    "    return accuracy\n"
   ]
  },
  {
   "cell_type": "code",
   "execution_count": null,
   "metadata": {
    "collapsed": true
   },
   "outputs": [],
   "source": [
    "base_model = RandomForestRegressor(n_estimators = 10, random_state = 42)\n",
    "base_model.fit(train_features, train_labels)\n",
    "base_accuracy = evaluate(base_model, test_features, test_labels)\n",
    "Model Performance\n",
    "Average Error: 3.9199 degrees.\n",
    "Accuracy = 93.36%.\n",
    "best_random = rf_random.best_estimator_\n",
    "random_accuracy = evaluate(best_random, test_features, test_labels)\n",
    "Model Performance\n",
    "Average Error: 3.7152 degrees.\n",
    "Accuracy = 93.73%.\n",
    "print('Improvement of {:0.2f}%.'.format( 100 * (random_accuracy - base_accuracy) / base_accuracy))\n",
    "Improvement of 0.40%."
   ]
  },
  {
   "cell_type": "code",
   "execution_count": null,
   "metadata": {
    "collapsed": true
   },
   "outputs": [],
   "source": []
  },
  {
   "cell_type": "code",
   "execution_count": null,
   "metadata": {
    "collapsed": true
   },
   "outputs": [],
   "source": []
  },
  {
   "cell_type": "code",
   "execution_count": null,
   "metadata": {
    "collapsed": true
   },
   "outputs": [],
   "source": []
  },
  {
   "cell_type": "code",
   "execution_count": null,
   "metadata": {
    "collapsed": true
   },
   "outputs": [],
   "source": []
  },
  {
   "cell_type": "markdown",
   "metadata": {},
   "source": [
    "#### Dimensionality Reduction + Random Patches / Random Subspaces"
   ]
  },
  {
   "cell_type": "code",
   "execution_count": null,
   "metadata": {
    "collapsed": true
   },
   "outputs": [],
   "source": []
  },
  {
   "cell_type": "code",
   "execution_count": null,
   "metadata": {
    "collapsed": true
   },
   "outputs": [],
   "source": []
  },
  {
   "cell_type": "code",
   "execution_count": null,
   "metadata": {
    "collapsed": true
   },
   "outputs": [],
   "source": []
  },
  {
   "cell_type": "code",
   "execution_count": null,
   "metadata": {
    "collapsed": true
   },
   "outputs": [],
   "source": []
  },
  {
   "cell_type": "code",
   "execution_count": null,
   "metadata": {
    "collapsed": true
   },
   "outputs": [],
   "source": []
  }
 ],
 "metadata": {
  "kernelspec": {
   "display_name": "Python 3",
   "language": "python",
   "name": "python3"
  },
  "language_info": {
   "codemirror_mode": {
    "name": "ipython",
    "version": 3
   },
   "file_extension": ".py",
   "mimetype": "text/x-python",
   "name": "python",
   "nbconvert_exporter": "python",
   "pygments_lexer": "ipython3",
   "version": "3.6.3"
  }
 },
 "nbformat": 4,
 "nbformat_minor": 2
}
